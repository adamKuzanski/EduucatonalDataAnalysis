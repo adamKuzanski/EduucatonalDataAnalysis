{
 "cells": [
  {
   "cell_type": "markdown",
   "id": "b9cfd211",
   "metadata": {},
   "source": [
    "# Data Analysis of UPV Dataset"
   ]
  },
  {
   "cell_type": "markdown",
   "id": "055e708c",
   "metadata": {},
   "source": [
    "## 1. Introduce environmental variables"
   ]
  },
  {
   "cell_type": "code",
   "execution_count": 68,
   "id": "9ab7125f",
   "metadata": {},
   "outputs": [],
   "source": [
    "# prepare environmental variables for the project\n",
    "WORKING_DIRECTORY <- \"C:\\\\Users\\\\User\\\\Desktop\\\\Studia\\\\ERASMUS\\\\DATA_ANALYSIS\\\\analysisProject\\\\\"\n",
    "\n",
    "DATASET_PATH <- \"resources\\\\\"\n",
    "COURSES <- \"students_courses.csv\"\n",
    "ENROLMENTS <- \"students_enrolment.csv\"\n",
    "YEARS <- \"students_years.csv\"\n",
    "\n",
    "OUTPUT <- \"output\\\\\"\n",
    "\n",
    "\n",
    "#libraries\n",
    "library(dplyr)\n",
    "\n",
    "Sys.setenv(LANG = \"en\")"
   ]
  },
  {
   "cell_type": "markdown",
   "id": "c1cc606c",
   "metadata": {},
   "source": [
    "## 2. Load the datasets\n",
    "\n",
    "The provided data has been presented in the form of csv file. What is worth noticing - there has been used a \";\" separator insted of \",\" one.\n"
   ]
  },
  {
   "cell_type": "code",
   "execution_count": 18,
   "id": "c08d27cc",
   "metadata": {},
   "outputs": [],
   "source": [
    "# Load the data \n",
    "courses_df <-  read.csv(paste(WORKING_DIRECTORY, DATASET_PATH, COURSES, sep='') ,header=TRUE, sep=';')\n",
    "enrolments_df <- read.csv(paste(WORKING_DIRECTORY, DATASET_PATH, ENROLMENTS, sep='') ,header=TRUE, sep=';')\n",
    "years_df <- read.csv(paste(WORKING_DIRECTORY, DATASET_PATH, YEARS, sep='') ,header=TRUE, sep=';')"
   ]
  },
  {
   "cell_type": "code",
   "execution_count": 19,
   "id": "0415f1a3",
   "metadata": {},
   "outputs": [
    {
     "data": {
      "text/html": [
       "<table>\n",
       "<thead><tr><th scope=col>NIP</th><th scope=col>TIT</th><th scope=col>ANYCOM</th><th scope=col>ING_INGRESO</th><th scope=col>ING_NOTA</th><th scope=col>ING_CONV</th><th scope=col>ING_EST</th><th scope=col>ING_CUPO</th><th scope=col>CURSO_TITULADO</th><th scope=col>EDAD</th><th scope=col>SEXO</th><th scope=col>ESTUDIS_P</th><th scope=col>ESTUDIS_M</th><th scope=col>CRE_RECON_INI</th><th scope=col>NUMPRE</th></tr></thead>\n",
       "<tbody>\n",
       "\t<tr><td>439444</td><td>156   </td><td>2010  </td><td>NAI   </td><td>6,1   </td><td>J     </td><td>10    </td><td>G     </td><td>NA    </td><td>19    </td><td>V     </td><td>5     </td><td>5     </td><td>6     </td><td>8     </td></tr>\n",
       "\t<tr><td>466072</td><td>156   </td><td>2010  </td><td>NAP   </td><td>6,02  </td><td>S     </td><td>10    </td><td>G     </td><td>NA    </td><td>25    </td><td>V     </td><td>4     </td><td>4     </td><td>0     </td><td>1     </td></tr>\n",
       "\t<tr><td>354734</td><td>156   </td><td>2010  </td><td>NAP   </td><td>6,9   </td><td>J     </td><td>10    </td><td>G     </td><td>NA    </td><td>22    </td><td>V     </td><td>5     </td><td>5     </td><td>0     </td><td>1     </td></tr>\n",
       "</tbody>\n",
       "</table>\n"
      ],
      "text/latex": [
       "\\begin{tabular}{r|lllllllllllllll}\n",
       " NIP & TIT & ANYCOM & ING\\_INGRESO & ING\\_NOTA & ING\\_CONV & ING\\_EST & ING\\_CUPO & CURSO\\_TITULADO & EDAD & SEXO & ESTUDIS\\_P & ESTUDIS\\_M & CRE\\_RECON\\_INI & NUMPRE\\\\\n",
       "\\hline\n",
       "\t 439444 & 156    & 2010   & NAI    & 6,1    & J      & 10     & G      & NA     & 19     & V      & 5      & 5      & 6      & 8     \\\\\n",
       "\t 466072 & 156    & 2010   & NAP    & 6,02   & S      & 10     & G      & NA     & 25     & V      & 4      & 4      & 0      & 1     \\\\\n",
       "\t 354734 & 156    & 2010   & NAP    & 6,9    & J      & 10     & G      & NA     & 22     & V      & 5      & 5      & 0      & 1     \\\\\n",
       "\\end{tabular}\n"
      ],
      "text/markdown": [
       "\n",
       "| NIP | TIT | ANYCOM | ING_INGRESO | ING_NOTA | ING_CONV | ING_EST | ING_CUPO | CURSO_TITULADO | EDAD | SEXO | ESTUDIS_P | ESTUDIS_M | CRE_RECON_INI | NUMPRE |\n",
       "|---|---|---|---|---|---|---|---|---|---|---|---|---|---|---|\n",
       "| 439444 | 156    | 2010   | NAI    | 6,1    | J      | 10     | G      | NA     | 19     | V      | 5      | 5      | 6      | 8      |\n",
       "| 466072 | 156    | 2010   | NAP    | 6,02   | S      | 10     | G      | NA     | 25     | V      | 4      | 4      | 0      | 1      |\n",
       "| 354734 | 156    | 2010   | NAP    | 6,9    | J      | 10     | G      | NA     | 22     | V      | 5      | 5      | 0      | 1      |\n",
       "\n"
      ],
      "text/plain": [
       "  NIP    TIT ANYCOM ING_INGRESO ING_NOTA ING_CONV ING_EST ING_CUPO\n",
       "1 439444 156 2010   NAI         6,1      J        10      G       \n",
       "2 466072 156 2010   NAP         6,02     S        10      G       \n",
       "3 354734 156 2010   NAP         6,9      J        10      G       \n",
       "  CURSO_TITULADO EDAD SEXO ESTUDIS_P ESTUDIS_M CRE_RECON_INI NUMPRE\n",
       "1 NA             19   V    5         5         6             8     \n",
       "2 NA             25   V    4         4         0             1     \n",
       "3 NA             22   V    5         5         0             1     "
      ]
     },
     "metadata": {},
     "output_type": "display_data"
    },
    {
     "data": {
      "text/html": [
       "<table>\n",
       "<thead><tr><th scope=col>NIP</th><th scope=col>TIT</th><th scope=col>ASI</th><th scope=col>CACA</th><th scope=col>GLM</th><th scope=col>CTOT</th><th scope=col>BLO</th><th scope=col>TPBLO</th><th scope=col>COND_ASI</th><th scope=col>ACTA</th><th scope=col>NOTA</th><th scope=col>CAL</th><th scope=col>TIPCRE</th></tr></thead>\n",
       "<tbody>\n",
       "\t<tr><td>12428</td><td>156  </td><td>11553</td><td>2014 </td><td>RE1  </td><td>6    </td><td>3    </td><td>B    </td><td>     </td><td>S    </td><td>7,1  </td><td>N    </td><td>B    </td></tr>\n",
       "\t<tr><td>12428</td><td>156  </td><td>11567</td><td>2014 </td><td>RE1  </td><td>4,5  </td><td>3    </td><td>G    </td><td>     </td><td>S    </td><td>8,1  </td><td>N    </td><td>O    </td></tr>\n",
       "\t<tr><td>12428</td><td>156  </td><td>11572</td><td>2014 </td><td>RE1  </td><td>4,5  </td><td>4    </td><td>G    </td><td>     </td><td>S    </td><td>8    </td><td>N    </td><td>O    </td></tr>\n",
       "</tbody>\n",
       "</table>\n"
      ],
      "text/latex": [
       "\\begin{tabular}{r|lllllllllllll}\n",
       " NIP & TIT & ASI & CACA & GLM & CTOT & BLO & TPBLO & COND\\_ASI & ACTA & NOTA & CAL & TIPCRE\\\\\n",
       "\\hline\n",
       "\t 12428 & 156   & 11553 & 2014  & RE1   & 6     & 3     & B     &       & S     & 7,1   & N     & B    \\\\\n",
       "\t 12428 & 156   & 11567 & 2014  & RE1   & 4,5   & 3     & G     &       & S     & 8,1   & N     & O    \\\\\n",
       "\t 12428 & 156   & 11572 & 2014  & RE1   & 4,5   & 4     & G     &       & S     & 8     & N     & O    \\\\\n",
       "\\end{tabular}\n"
      ],
      "text/markdown": [
       "\n",
       "| NIP | TIT | ASI | CACA | GLM | CTOT | BLO | TPBLO | COND_ASI | ACTA | NOTA | CAL | TIPCRE |\n",
       "|---|---|---|---|---|---|---|---|---|---|---|---|---|\n",
       "| 12428 | 156   | 11553 | 2014  | RE1   | 6     | 3     | B     |       | S     | 7,1   | N     | B     |\n",
       "| 12428 | 156   | 11567 | 2014  | RE1   | 4,5   | 3     | G     |       | S     | 8,1   | N     | O     |\n",
       "| 12428 | 156   | 11572 | 2014  | RE1   | 4,5   | 4     | G     |       | S     | 8     | N     | O     |\n",
       "\n"
      ],
      "text/plain": [
       "  NIP   TIT ASI   CACA GLM CTOT BLO TPBLO COND_ASI ACTA NOTA CAL TIPCRE\n",
       "1 12428 156 11553 2014 RE1 6    3   B              S    7,1  N   B     \n",
       "2 12428 156 11567 2014 RE1 4,5  3   G              S    8,1  N   O     \n",
       "3 12428 156 11572 2014 RE1 4,5  4   G              S    8    N   O     "
      ]
     },
     "metadata": {},
     "output_type": "display_data"
    },
    {
     "data": {
      "text/html": [
       "<table>\n",
       "<thead><tr><th scope=col>NIP</th><th scope=col>TIT</th><th scope=col>CACA</th><th scope=col>TRABAJO_A</th><th scope=col>OBTIENE_BECA</th><th scope=col>ESTADO</th><th scope=col>CRE_MAT</th><th scope=col>CRE_SUP</th><th scope=col>CRE_SUS</th><th scope=col>CRE_NP</th><th scope=col>CRE_MAT_CN</th><th scope=col>CRE_SUP_CN</th><th scope=col>CRE_SUS_CN</th><th scope=col>CRE_NP_CN</th></tr></thead>\n",
       "<tbody>\n",
       "\t<tr><td>504943</td><td>158   </td><td>2012  </td><td>NA    </td><td>-     </td><td>      </td><td>25,5  </td><td>25,5  </td><td>0     </td><td>0     </td><td>25,5  </td><td>25,5  </td><td>0     </td><td>0     </td></tr>\n",
       "\t<tr><td>504911</td><td>158   </td><td>2012  </td><td>NA    </td><td>-     </td><td>      </td><td>25,5  </td><td>19,5  </td><td>6     </td><td>0     </td><td>25,5  </td><td>19,5  </td><td>6     </td><td>0     </td></tr>\n",
       "\t<tr><td>504898</td><td>158   </td><td>2012  </td><td>NA    </td><td>-     </td><td>      </td><td>28,5  </td><td>19,5  </td><td>0     </td><td>9     </td><td>28,5  </td><td>19,5  </td><td>0     </td><td>9     </td></tr>\n",
       "</tbody>\n",
       "</table>\n"
      ],
      "text/latex": [
       "\\begin{tabular}{r|llllllllllllll}\n",
       " NIP & TIT & CACA & TRABAJO\\_A & OBTIENE\\_BECA & ESTADO & CRE\\_MAT & CRE\\_SUP & CRE\\_SUS & CRE\\_NP & CRE\\_MAT\\_CN & CRE\\_SUP\\_CN & CRE\\_SUS\\_CN & CRE\\_NP\\_CN\\\\\n",
       "\\hline\n",
       "\t 504943 & 158    & 2012   & NA     & -      &        & 25,5   & 25,5   & 0      & 0      & 25,5   & 25,5   & 0      & 0     \\\\\n",
       "\t 504911 & 158    & 2012   & NA     & -      &        & 25,5   & 19,5   & 6      & 0      & 25,5   & 19,5   & 6      & 0     \\\\\n",
       "\t 504898 & 158    & 2012   & NA     & -      &        & 28,5   & 19,5   & 0      & 9      & 28,5   & 19,5   & 0      & 9     \\\\\n",
       "\\end{tabular}\n"
      ],
      "text/markdown": [
       "\n",
       "| NIP | TIT | CACA | TRABAJO_A | OBTIENE_BECA | ESTADO | CRE_MAT | CRE_SUP | CRE_SUS | CRE_NP | CRE_MAT_CN | CRE_SUP_CN | CRE_SUS_CN | CRE_NP_CN |\n",
       "|---|---|---|---|---|---|---|---|---|---|---|---|---|---|\n",
       "| 504943 | 158    | 2012   | NA     | -      |        | 25,5   | 25,5   | 0      | 0      | 25,5   | 25,5   | 0      | 0      |\n",
       "| 504911 | 158    | 2012   | NA     | -      |        | 25,5   | 19,5   | 6      | 0      | 25,5   | 19,5   | 6      | 0      |\n",
       "| 504898 | 158    | 2012   | NA     | -      |        | 28,5   | 19,5   | 0      | 9      | 28,5   | 19,5   | 0      | 9      |\n",
       "\n"
      ],
      "text/plain": [
       "  NIP    TIT CACA TRABAJO_A OBTIENE_BECA ESTADO CRE_MAT CRE_SUP CRE_SUS CRE_NP\n",
       "1 504943 158 2012 NA        -                   25,5    25,5    0       0     \n",
       "2 504911 158 2012 NA        -                   25,5    19,5    6       0     \n",
       "3 504898 158 2012 NA        -                   28,5    19,5    0       9     \n",
       "  CRE_MAT_CN CRE_SUP_CN CRE_SUS_CN CRE_NP_CN\n",
       "1 25,5       25,5       0          0        \n",
       "2 25,5       19,5       6          0        \n",
       "3 28,5       19,5       0          9        "
      ]
     },
     "metadata": {},
     "output_type": "display_data"
    }
   ],
   "source": [
    "# preview the data\n",
    "head(enrolments_df, 3)\n",
    "head(courses_df, 3)\n",
    "head(years_df, 3)"
   ]
  },
  {
   "cell_type": "markdown",
   "id": "56f94828",
   "metadata": {},
   "source": [
    "## 3. Translate the headers\n",
    "As the data has been privided in spanish, some translations are required in order for the avarege user to understand it. Such translations has been applied:\n",
    "NT == \"No Transtlation\"  \n",
    "    "
   ]
  },
  {
   "cell_type": "markdown",
   "id": "baeea553",
   "metadata": {},
   "source": [
    "### 3.1 Students_enrolment.csv\n",
    "For each student enrolling in one of the selected four degrees, the file includes demographic \n",
    "information, admission grade, previous studies, parents’ educational level, etc. It is important \n",
    "to point out that it refers only to the first registration in a given degree.\n",
    "\n",
    "NIP --> Stud_ID - a unique identification number for the student\n",
    "\n",
    "TIT --> Degree_ID - identification code for the degree on which the student was registered\n",
    "\n",
    "- 156: Bachelor's Degree in Informatics Engineering (School of Informatics, Valencia)\n",
    "\n",
    "- 158: Bachelor's Degree in Business Administration and Management (Faculty of Business Administration and Management, Valencia)\n",
    "\n",
    "- 182: Bachelor's Double Degree in Business Administration and Management + Informatics Engineering (Valencia)\n",
    "\n",
    "- 189: Bachelor's Degree in Data Science (School of Informatics, Valencia)\n",
    "\n",
    "ANYCOM --> Start_Year - the student’s starting year in the degree\n",
    "\n",
    "ING_INGRESO --> Enrolment_Type\n",
    "\n",
    "ING_NOTA --> Admission_Grade - university admission grade for this degree (ranges depend on the entry \n",
    "type)\n",
    "\n",
    "ING_CONV --> 'NO DATA'\n",
    "\n",
    "ING_EST --> Prev_Studies - previous studies\n",
    "\n",
    "ING_CUPO --> Entry_Type - Entry Type (?)\n",
    "\n",
    "COURSO_TITULADO --> Course Title\n",
    "\n",
    "EDAD --> Start_Age - age at the beginning of the academic year (1st September ANYCOM [Start Year])\n",
    "\n",
    "SEXO -->  Sex - gender\n",
    "\n",
    "ESTUDIS_P --> Father_Edu_Lev -  father's educational leve\n",
    "\n",
    "ESTUDIS_M --> Mother_Edu_Lev - mother's educational level\n",
    "\n",
    "CRE_RECON_INI\t--> NO DATA\n",
    "\n",
    "NUMPRE --> NT (?) - position of the degree in the ordered options of the pre-registration\n"
   ]
  },
  {
   "cell_type": "code",
   "execution_count": 23,
   "id": "7a5c4d98",
   "metadata": {},
   "outputs": [
    {
     "data": {
      "text/html": [
       "<table>\n",
       "<thead><tr><th scope=col>Stud_ID</th><th scope=col>Degree_ID</th><th scope=col>Start_Year</th><th scope=col>Enrolment_Type</th><th scope=col>Admission_Grade</th><th scope=col>ING_CONV</th><th scope=col>Prev_Studies</th><th scope=col>Entry_Type</th><th scope=col>Course_Title</th><th scope=col>Start_Age</th><th scope=col>Sex</th><th scope=col>Father_Edu_Lev</th><th scope=col>Mother_Edu_Lev</th><th scope=col>CRE_RECON_INI</th><th scope=col>Numpre</th></tr></thead>\n",
       "<tbody>\n",
       "\t<tr><td>439444</td><td>156   </td><td>2010  </td><td>NAI   </td><td>6,1   </td><td>J     </td><td>10    </td><td>G     </td><td>  NA  </td><td>19    </td><td>V     </td><td>5     </td><td>5     </td><td>6     </td><td>8     </td></tr>\n",
       "\t<tr><td>466072</td><td>156   </td><td>2010  </td><td>NAP   </td><td>6,02  </td><td>S     </td><td>10    </td><td>G     </td><td>  NA  </td><td>25    </td><td>V     </td><td>4     </td><td>4     </td><td>0     </td><td>1     </td></tr>\n",
       "\t<tr><td>354734</td><td>156   </td><td>2010  </td><td>NAP   </td><td>6,9   </td><td>J     </td><td>10    </td><td>G     </td><td>  NA  </td><td>22    </td><td>V     </td><td>5     </td><td>5     </td><td>0     </td><td>1     </td></tr>\n",
       "\t<tr><td>460803</td><td>156   </td><td>2010  </td><td>NAP   </td><td>6,833 </td><td>J     </td><td>11    </td><td>G     </td><td>2014  </td><td>18    </td><td>V     </td><td>5     </td><td>4     </td><td>60    </td><td>1     </td></tr>\n",
       "\t<tr><td>460956</td><td>156   </td><td>2010  </td><td>NSA   </td><td>9,016 </td><td>J     </td><td>10    </td><td>G     </td><td>  NA  </td><td>17    </td><td>V     </td><td>4     </td><td>4     </td><td>      </td><td>2     </td></tr>\n",
       "\t<tr><td>460850</td><td>156   </td><td>2010  </td><td>NAP   </td><td>9,129 </td><td>J     </td><td> 5    </td><td>G     </td><td>  NA  </td><td>22    </td><td>V     </td><td>5     </td><td>4     </td><td>12    </td><td>1     </td></tr>\n",
       "</tbody>\n",
       "</table>\n"
      ],
      "text/latex": [
       "\\begin{tabular}{r|lllllllllllllll}\n",
       " Stud\\_ID & Degree\\_ID & Start\\_Year & Enrolment\\_Type & Admission\\_Grade & ING\\_CONV & Prev\\_Studies & Entry\\_Type & Course\\_Title & Start\\_Age & Sex & Father\\_Edu\\_Lev & Mother\\_Edu\\_Lev & CRE\\_RECON\\_INI & Numpre\\\\\n",
       "\\hline\n",
       "\t 439444 & 156    & 2010   & NAI    & 6,1    & J      & 10     & G      &   NA   & 19     & V      & 5      & 5      & 6      & 8     \\\\\n",
       "\t 466072 & 156    & 2010   & NAP    & 6,02   & S      & 10     & G      &   NA   & 25     & V      & 4      & 4      & 0      & 1     \\\\\n",
       "\t 354734 & 156    & 2010   & NAP    & 6,9    & J      & 10     & G      &   NA   & 22     & V      & 5      & 5      & 0      & 1     \\\\\n",
       "\t 460803 & 156    & 2010   & NAP    & 6,833  & J      & 11     & G      & 2014   & 18     & V      & 5      & 4      & 60     & 1     \\\\\n",
       "\t 460956 & 156    & 2010   & NSA    & 9,016  & J      & 10     & G      &   NA   & 17     & V      & 4      & 4      &        & 2     \\\\\n",
       "\t 460850 & 156    & 2010   & NAP    & 9,129  & J      &  5     & G      &   NA   & 22     & V      & 5      & 4      & 12     & 1     \\\\\n",
       "\\end{tabular}\n"
      ],
      "text/markdown": [
       "\n",
       "| Stud_ID | Degree_ID | Start_Year | Enrolment_Type | Admission_Grade | ING_CONV | Prev_Studies | Entry_Type | Course_Title | Start_Age | Sex | Father_Edu_Lev | Mother_Edu_Lev | CRE_RECON_INI | Numpre |\n",
       "|---|---|---|---|---|---|---|---|---|---|---|---|---|---|---|\n",
       "| 439444 | 156    | 2010   | NAI    | 6,1    | J      | 10     | G      |   NA   | 19     | V      | 5      | 5      | 6      | 8      |\n",
       "| 466072 | 156    | 2010   | NAP    | 6,02   | S      | 10     | G      |   NA   | 25     | V      | 4      | 4      | 0      | 1      |\n",
       "| 354734 | 156    | 2010   | NAP    | 6,9    | J      | 10     | G      |   NA   | 22     | V      | 5      | 5      | 0      | 1      |\n",
       "| 460803 | 156    | 2010   | NAP    | 6,833  | J      | 11     | G      | 2014   | 18     | V      | 5      | 4      | 60     | 1      |\n",
       "| 460956 | 156    | 2010   | NSA    | 9,016  | J      | 10     | G      |   NA   | 17     | V      | 4      | 4      |        | 2      |\n",
       "| 460850 | 156    | 2010   | NAP    | 9,129  | J      |  5     | G      |   NA   | 22     | V      | 5      | 4      | 12     | 1      |\n",
       "\n"
      ],
      "text/plain": [
       "  Stud_ID Degree_ID Start_Year Enrolment_Type Admission_Grade ING_CONV\n",
       "1 439444  156       2010       NAI            6,1             J       \n",
       "2 466072  156       2010       NAP            6,02            S       \n",
       "3 354734  156       2010       NAP            6,9             J       \n",
       "4 460803  156       2010       NAP            6,833           J       \n",
       "5 460956  156       2010       NSA            9,016           J       \n",
       "6 460850  156       2010       NAP            9,129           J       \n",
       "  Prev_Studies Entry_Type Course_Title Start_Age Sex Father_Edu_Lev\n",
       "1 10           G            NA         19        V   5             \n",
       "2 10           G            NA         25        V   4             \n",
       "3 10           G            NA         22        V   5             \n",
       "4 11           G          2014         18        V   5             \n",
       "5 10           G            NA         17        V   4             \n",
       "6  5           G            NA         22        V   5             \n",
       "  Mother_Edu_Lev CRE_RECON_INI Numpre\n",
       "1 5              6             8     \n",
       "2 4              0             1     \n",
       "3 5              0             1     \n",
       "4 4              60            1     \n",
       "5 4                            2     \n",
       "6 4              12            1     "
      ]
     },
     "metadata": {},
     "output_type": "display_data"
    }
   ],
   "source": [
    "colnames(enrolments_df) <- c(\n",
    "    \"Stud_ID\",\n",
    "    \"Degree_ID\",\n",
    "    \"Start_Year\",\n",
    "    \"Enrolment_Type\",\n",
    "    \"Admission_Grade\",\n",
    "    \"ING_CONV\",\n",
    "    \"Prev_Studies\",\n",
    "    \"Entry_Type\",\n",
    "    \"Course_Title\",\n",
    "    \"Start_Age\",\n",
    "    \"Sex\",\n",
    "    \"Father_Edu_Lev\",\n",
    "    \"Mother_Edu_Lev\",\n",
    "    \"CRE_RECON_INI\",\n",
    "    \"Numpre\")\n",
    "head(enrolments_df)"
   ]
  },
  {
   "cell_type": "markdown",
   "id": "a3cafdf6",
   "metadata": {},
   "source": [
    "### 3.1 Students_courses.csv\n",
    "For each student enrolling in one of the selected four degrees, and for each academic year, the \n",
    "file includes information about each course in which the student is enrolled, its characteristics \n",
    "as well as the final grade\n",
    "\n",
    "NIP --> Stud_ID: a unique identification number for the student\n",
    "\n",
    "TIT --> Degree_ID identification code for the degree on which the student is registered\n",
    "\n",
    "ASI --> Course_ID: identification code of the course\n",
    "\n",
    "CACA --> Academic_Year: academic year\n",
    "\n",
    "GLM --> Course_Section: section where the student is registered for that course\n",
    "\n",
    "CTOT --> ECTS: ECTS credits\n",
    "\n",
    "BLO --> Course_Mod: module to which the course belongs\n",
    "\n",
    "TPBLO --> Mod_Type: module type to which the course belongs\n",
    "\n",
    "COND_ASI --> NO DATA\n",
    "\n",
    "ACTA --> NO DATA\n",
    "\n",
    "NOTA --> Final_Grade: final grade as shown on the student transcript\n",
    "\n",
    "CAL --> NO DATA\n",
    "\n",
    "TIPCRE --> Course_Type: course type\n"
   ]
  },
  {
   "cell_type": "code",
   "execution_count": 24,
   "id": "7fd93be9",
   "metadata": {},
   "outputs": [
    {
     "data": {
      "text/html": [
       "<table>\n",
       "<thead><tr><th scope=col>Stud_ID</th><th scope=col>Degree_ID</th><th scope=col>Course_ID</th><th scope=col>Academic_Year</th><th scope=col>Course_Section</th><th scope=col>ECTS</th><th scope=col>Course_Mod</th><th scope=col>Mod_Type</th><th scope=col>Final_Grade</th><th scope=col>Course_Type</th><th scope=col>NA</th><th scope=col>NA</th><th scope=col>NA</th></tr></thead>\n",
       "<tbody>\n",
       "\t<tr><td>12428</td><td>156  </td><td>11553</td><td>2014 </td><td>RE1  </td><td>6    </td><td>3    </td><td>B    </td><td>     </td><td>S    </td><td>7,1  </td><td>N    </td><td>B    </td></tr>\n",
       "\t<tr><td>12428</td><td>156  </td><td>11567</td><td>2014 </td><td>RE1  </td><td>4,5  </td><td>3    </td><td>G    </td><td>     </td><td>S    </td><td>8,1  </td><td>N    </td><td>O    </td></tr>\n",
       "\t<tr><td>12428</td><td>156  </td><td>11572</td><td>2014 </td><td>RE1  </td><td>4,5  </td><td>4    </td><td>G    </td><td>     </td><td>S    </td><td>8    </td><td>N    </td><td>O    </td></tr>\n",
       "\t<tr><td>12428</td><td>156  </td><td>11568</td><td>2014 </td><td>RE1  </td><td>4,5  </td><td>3    </td><td>G    </td><td>     </td><td>S    </td><td>7,8  </td><td>N    </td><td>O    </td></tr>\n",
       "\t<tr><td>12428</td><td>156  </td><td>11660</td><td>2015 </td><td>TFG  </td><td>12   </td><td>4    </td><td>B    </td><td>     </td><td>-    </td><td>7,5  </td><td>N    </td><td>G    </td></tr>\n",
       "\t<tr><td>12428</td><td>156  </td><td>11560</td><td>2015 </td><td>RE1  </td><td>4,5  </td><td>3    </td><td>B    </td><td>     </td><td>S    </td><td>7,1  </td><td>N    </td><td>B    </td></tr>\n",
       "</tbody>\n",
       "</table>\n"
      ],
      "text/latex": [
       "\\begin{tabular}{r|lllllllllllll}\n",
       " Stud\\_ID & Degree\\_ID & Course\\_ID & Academic\\_Year & Course\\_Section & ECTS & Course\\_Mod & Mod\\_Type & Final\\_Grade & Course\\_Type & NA & NA & NA\\\\\n",
       "\\hline\n",
       "\t 12428 & 156   & 11553 & 2014  & RE1   & 6     & 3     & B     &       & S     & 7,1   & N     & B    \\\\\n",
       "\t 12428 & 156   & 11567 & 2014  & RE1   & 4,5   & 3     & G     &       & S     & 8,1   & N     & O    \\\\\n",
       "\t 12428 & 156   & 11572 & 2014  & RE1   & 4,5   & 4     & G     &       & S     & 8     & N     & O    \\\\\n",
       "\t 12428 & 156   & 11568 & 2014  & RE1   & 4,5   & 3     & G     &       & S     & 7,8   & N     & O    \\\\\n",
       "\t 12428 & 156   & 11660 & 2015  & TFG   & 12    & 4     & B     &       & -     & 7,5   & N     & G    \\\\\n",
       "\t 12428 & 156   & 11560 & 2015  & RE1   & 4,5   & 3     & B     &       & S     & 7,1   & N     & B    \\\\\n",
       "\\end{tabular}\n"
      ],
      "text/markdown": [
       "\n",
       "| Stud_ID | Degree_ID | Course_ID | Academic_Year | Course_Section | ECTS | Course_Mod | Mod_Type | Final_Grade | Course_Type | NA | NA | NA |\n",
       "|---|---|---|---|---|---|---|---|---|---|---|---|---|\n",
       "| 12428 | 156   | 11553 | 2014  | RE1   | 6     | 3     | B     |       | S     | 7,1   | N     | B     |\n",
       "| 12428 | 156   | 11567 | 2014  | RE1   | 4,5   | 3     | G     |       | S     | 8,1   | N     | O     |\n",
       "| 12428 | 156   | 11572 | 2014  | RE1   | 4,5   | 4     | G     |       | S     | 8     | N     | O     |\n",
       "| 12428 | 156   | 11568 | 2014  | RE1   | 4,5   | 3     | G     |       | S     | 7,8   | N     | O     |\n",
       "| 12428 | 156   | 11660 | 2015  | TFG   | 12    | 4     | B     |       | -     | 7,5   | N     | G     |\n",
       "| 12428 | 156   | 11560 | 2015  | RE1   | 4,5   | 3     | B     |       | S     | 7,1   | N     | B     |\n",
       "\n"
      ],
      "text/plain": [
       "  Stud_ID Degree_ID Course_ID Academic_Year Course_Section ECTS Course_Mod\n",
       "1 12428   156       11553     2014          RE1            6    3         \n",
       "2 12428   156       11567     2014          RE1            4,5  3         \n",
       "3 12428   156       11572     2014          RE1            4,5  4         \n",
       "4 12428   156       11568     2014          RE1            4,5  3         \n",
       "5 12428   156       11660     2015          TFG            12   4         \n",
       "6 12428   156       11560     2015          RE1            4,5  3         \n",
       "  Mod_Type Final_Grade Course_Type <NA> <NA> <NA>\n",
       "1 B                    S           7,1  N    B   \n",
       "2 G                    S           8,1  N    O   \n",
       "3 G                    S           8    N    O   \n",
       "4 G                    S           7,8  N    O   \n",
       "5 B                    -           7,5  N    G   \n",
       "6 B                    S           7,1  N    B   "
      ]
     },
     "metadata": {},
     "output_type": "display_data"
    },
    {
     "data": {
      "text/html": [
       "<table>\n",
       "<thead><tr><th scope=col>Stud_ID</th><th scope=col>Degree_ID</th><th scope=col>Course_ID</th><th scope=col>Academic_Year</th><th scope=col>Course_Section</th><th scope=col>ECTS</th><th scope=col>Course_Mod</th><th scope=col>Mod_Type</th><th scope=col>COND_ASI</th><th scope=col>ACTA</th><th scope=col>Final_Grade</th><th scope=col>CAL</th><th scope=col>Course_Type</th></tr></thead>\n",
       "<tbody>\n",
       "\t<tr><td>12428</td><td>156  </td><td>11553</td><td>2014 </td><td>RE1  </td><td>6    </td><td>3    </td><td>B    </td><td>     </td><td>S    </td><td>7,1  </td><td>N    </td><td>B    </td></tr>\n",
       "\t<tr><td>12428</td><td>156  </td><td>11567</td><td>2014 </td><td>RE1  </td><td>4,5  </td><td>3    </td><td>G    </td><td>     </td><td>S    </td><td>8,1  </td><td>N    </td><td>O    </td></tr>\n",
       "\t<tr><td>12428</td><td>156  </td><td>11572</td><td>2014 </td><td>RE1  </td><td>4,5  </td><td>4    </td><td>G    </td><td>     </td><td>S    </td><td>8    </td><td>N    </td><td>O    </td></tr>\n",
       "\t<tr><td>12428</td><td>156  </td><td>11568</td><td>2014 </td><td>RE1  </td><td>4,5  </td><td>3    </td><td>G    </td><td>     </td><td>S    </td><td>7,8  </td><td>N    </td><td>O    </td></tr>\n",
       "\t<tr><td>12428</td><td>156  </td><td>11660</td><td>2015 </td><td>TFG  </td><td>12   </td><td>4    </td><td>B    </td><td>     </td><td>-    </td><td>7,5  </td><td>N    </td><td>G    </td></tr>\n",
       "\t<tr><td>12428</td><td>156  </td><td>11560</td><td>2015 </td><td>RE1  </td><td>4,5  </td><td>3    </td><td>B    </td><td>     </td><td>S    </td><td>7,1  </td><td>N    </td><td>B    </td></tr>\n",
       "</tbody>\n",
       "</table>\n"
      ],
      "text/latex": [
       "\\begin{tabular}{r|lllllllllllll}\n",
       " Stud\\_ID & Degree\\_ID & Course\\_ID & Academic\\_Year & Course\\_Section & ECTS & Course\\_Mod & Mod\\_Type & COND\\_ASI & ACTA & Final\\_Grade & CAL & Course\\_Type\\\\\n",
       "\\hline\n",
       "\t 12428 & 156   & 11553 & 2014  & RE1   & 6     & 3     & B     &       & S     & 7,1   & N     & B    \\\\\n",
       "\t 12428 & 156   & 11567 & 2014  & RE1   & 4,5   & 3     & G     &       & S     & 8,1   & N     & O    \\\\\n",
       "\t 12428 & 156   & 11572 & 2014  & RE1   & 4,5   & 4     & G     &       & S     & 8     & N     & O    \\\\\n",
       "\t 12428 & 156   & 11568 & 2014  & RE1   & 4,5   & 3     & G     &       & S     & 7,8   & N     & O    \\\\\n",
       "\t 12428 & 156   & 11660 & 2015  & TFG   & 12    & 4     & B     &       & -     & 7,5   & N     & G    \\\\\n",
       "\t 12428 & 156   & 11560 & 2015  & RE1   & 4,5   & 3     & B     &       & S     & 7,1   & N     & B    \\\\\n",
       "\\end{tabular}\n"
      ],
      "text/markdown": [
       "\n",
       "| Stud_ID | Degree_ID | Course_ID | Academic_Year | Course_Section | ECTS | Course_Mod | Mod_Type | COND_ASI | ACTA | Final_Grade | CAL | Course_Type |\n",
       "|---|---|---|---|---|---|---|---|---|---|---|---|---|\n",
       "| 12428 | 156   | 11553 | 2014  | RE1   | 6     | 3     | B     |       | S     | 7,1   | N     | B     |\n",
       "| 12428 | 156   | 11567 | 2014  | RE1   | 4,5   | 3     | G     |       | S     | 8,1   | N     | O     |\n",
       "| 12428 | 156   | 11572 | 2014  | RE1   | 4,5   | 4     | G     |       | S     | 8     | N     | O     |\n",
       "| 12428 | 156   | 11568 | 2014  | RE1   | 4,5   | 3     | G     |       | S     | 7,8   | N     | O     |\n",
       "| 12428 | 156   | 11660 | 2015  | TFG   | 12    | 4     | B     |       | -     | 7,5   | N     | G     |\n",
       "| 12428 | 156   | 11560 | 2015  | RE1   | 4,5   | 3     | B     |       | S     | 7,1   | N     | B     |\n",
       "\n"
      ],
      "text/plain": [
       "  Stud_ID Degree_ID Course_ID Academic_Year Course_Section ECTS Course_Mod\n",
       "1 12428   156       11553     2014          RE1            6    3         \n",
       "2 12428   156       11567     2014          RE1            4,5  3         \n",
       "3 12428   156       11572     2014          RE1            4,5  4         \n",
       "4 12428   156       11568     2014          RE1            4,5  3         \n",
       "5 12428   156       11660     2015          TFG            12   4         \n",
       "6 12428   156       11560     2015          RE1            4,5  3         \n",
       "  Mod_Type COND_ASI ACTA Final_Grade CAL Course_Type\n",
       "1 B                 S    7,1         N   B          \n",
       "2 G                 S    8,1         N   O          \n",
       "3 G                 S    8           N   O          \n",
       "4 G                 S    7,8         N   O          \n",
       "5 B                 -    7,5         N   G          \n",
       "6 B                 S    7,1         N   B          "
      ]
     },
     "metadata": {},
     "output_type": "display_data"
    }
   ],
   "source": [
    "head(courses_df)\n",
    "colnames(courses_df) <- c(\n",
    "    \"Stud_ID\",\n",
    "    \"Degree_ID\",\n",
    "    \"Course_ID\",\n",
    "    \"Academic_Year\",\n",
    "    \"Course_Section\",\n",
    "    \"ECTS\",\n",
    "    \"Course_Mod\",\n",
    "    \"Mod_Type\",\n",
    "    \"COND_ASI\",\n",
    "    \"ACTA\",\n",
    "    \"Final_Grade\",\n",
    "    \"CAL\",\n",
    "    \"Course_Type\")\n",
    "head(courses_df)"
   ]
  },
  {
   "cell_type": "markdown",
   "id": "38ca6ef5",
   "metadata": {},
   "source": [
    "## Students_years.csv\n",
    "For each student enrolling in one of the selected four degrees, and for each academic year, the \n",
    "file includes information about the total number of registered credits, as well as passed, failed \n",
    "and no-show credits. It also contains some additional socio-economical information.\n",
    "Columns are:\n",
    "\n",
    "NIP --> Stud_ID: a unique identification number for the student\n",
    "\n",
    "TIT --> Degree_ID: identification code for the degree on which the student is registered\n",
    "\n",
    "CACA --> Academic_Year: academic year\n",
    "\n",
    "TRABAJO_A --> Stud_Job: has the student a job (part time, full-time)?\n",
    "\n",
    "OBTIENE_BECA --> Stud_Scholarship has the student obtained a scholarship?\n",
    "\n",
    "ESTADO --> Is_Reg_Open: is the registration active?\n",
    "\n",
    "CRE_MAT --> Credits_Total: total number of registered credits on that academic year\n",
    "\n",
    "CRE_SUP --> Credits_Passed_Total: total number of passed credits on that academic year\n",
    "\n",
    "CRE_SUS --> Credits_Failed_Total: total number of failed credits on that academic year\n",
    "\n",
    "CRE_NP --> Credits_No_Show_Total: total number of no-show credits on that academic year\n",
    "\n",
    "CRE_MAT_CN --> Credits_Normal_Reg_Total total number of registered credits in “normal conditions”, excluding recognitions, adaptations…on that academic \n",
    "\n",
    "CRE_SUP_CN --> Credits_Passed_Normal: total number of passed credits in “normal conditions”\n",
    "\n",
    "CRE_SUS_CN --> Credits_Failed_Normal: total number of failed credits in “normal conditions”\n",
    "\n",
    "CRE_NP_CN --> Credits_No_Show_Normal total number of no-show credits in “normal conditions"
   ]
  },
  {
   "cell_type": "code",
   "execution_count": 25,
   "id": "43b5f3e1",
   "metadata": {},
   "outputs": [
    {
     "data": {
      "text/html": [
       "<table>\n",
       "<thead><tr><th scope=col>Stud_ID</th><th scope=col>Degree_ID</th><th scope=col>Academic_Year</th><th scope=col>Stud_Job</th><th scope=col>Stud_Scholarship</th><th scope=col>Is_Reg_Open</th><th scope=col>Credits_Total</th><th scope=col>Credits_Passed_Total</th><th scope=col>Credits_Failed_Total</th><th scope=col>Credits_No_Show_Total</th><th scope=col>Credits_Normal_Reg_Total</th><th scope=col>Credits_Passed_Normal</th><th scope=col>Credits_Failed_Normal</th><th scope=col>Credits_No_Show_Normal</th></tr></thead>\n",
       "<tbody>\n",
       "\t<tr><td>504943</td><td>158   </td><td>2012  </td><td>NA    </td><td>-     </td><td>      </td><td>25,5  </td><td>25,5  </td><td>0     </td><td>0     </td><td>25,5  </td><td>25,5  </td><td>0     </td><td>0     </td></tr>\n",
       "\t<tr><td>504911</td><td>158   </td><td>2012  </td><td>NA    </td><td>-     </td><td>      </td><td>25,5  </td><td>19,5  </td><td>6     </td><td>0     </td><td>25,5  </td><td>19,5  </td><td>6     </td><td>0     </td></tr>\n",
       "\t<tr><td>504898</td><td>158   </td><td>2012  </td><td>NA    </td><td>-     </td><td>      </td><td>28,5  </td><td>19,5  </td><td>0     </td><td>9     </td><td>28,5  </td><td>19,5  </td><td>0     </td><td>9     </td></tr>\n",
       "\t<tr><td>504997</td><td>158   </td><td>2012  </td><td>NA    </td><td>-     </td><td>      </td><td>15    </td><td>0     </td><td>9     </td><td>6     </td><td>15    </td><td>0     </td><td>9     </td><td>6     </td></tr>\n",
       "\t<tr><td>505000</td><td>158   </td><td>2012  </td><td>NA    </td><td>-     </td><td>      </td><td>15    </td><td>15    </td><td>0     </td><td>0     </td><td>15    </td><td>15    </td><td>0     </td><td>0     </td></tr>\n",
       "\t<tr><td>504999</td><td>158   </td><td>2012  </td><td>NA    </td><td>-     </td><td>      </td><td>27    </td><td>22,5  </td><td>0     </td><td>4,5   </td><td>27    </td><td>22,5  </td><td>0     </td><td>4,5   </td></tr>\n",
       "</tbody>\n",
       "</table>\n"
      ],
      "text/latex": [
       "\\begin{tabular}{r|llllllllllllll}\n",
       " Stud\\_ID & Degree\\_ID & Academic\\_Year & Stud\\_Job & Stud\\_Scholarship & Is\\_Reg\\_Open & Credits\\_Total & Credits\\_Passed\\_Total & Credits\\_Failed\\_Total & Credits\\_No\\_Show\\_Total & Credits\\_Normal\\_Reg\\_Total & Credits\\_Passed\\_Normal & Credits\\_Failed\\_Normal & Credits\\_No\\_Show\\_Normal\\\\\n",
       "\\hline\n",
       "\t 504943 & 158    & 2012   & NA     & -      &        & 25,5   & 25,5   & 0      & 0      & 25,5   & 25,5   & 0      & 0     \\\\\n",
       "\t 504911 & 158    & 2012   & NA     & -      &        & 25,5   & 19,5   & 6      & 0      & 25,5   & 19,5   & 6      & 0     \\\\\n",
       "\t 504898 & 158    & 2012   & NA     & -      &        & 28,5   & 19,5   & 0      & 9      & 28,5   & 19,5   & 0      & 9     \\\\\n",
       "\t 504997 & 158    & 2012   & NA     & -      &        & 15     & 0      & 9      & 6      & 15     & 0      & 9      & 6     \\\\\n",
       "\t 505000 & 158    & 2012   & NA     & -      &        & 15     & 15     & 0      & 0      & 15     & 15     & 0      & 0     \\\\\n",
       "\t 504999 & 158    & 2012   & NA     & -      &        & 27     & 22,5   & 0      & 4,5    & 27     & 22,5   & 0      & 4,5   \\\\\n",
       "\\end{tabular}\n"
      ],
      "text/markdown": [
       "\n",
       "| Stud_ID | Degree_ID | Academic_Year | Stud_Job | Stud_Scholarship | Is_Reg_Open | Credits_Total | Credits_Passed_Total | Credits_Failed_Total | Credits_No_Show_Total | Credits_Normal_Reg_Total | Credits_Passed_Normal | Credits_Failed_Normal | Credits_No_Show_Normal |\n",
       "|---|---|---|---|---|---|---|---|---|---|---|---|---|---|\n",
       "| 504943 | 158    | 2012   | NA     | -      |        | 25,5   | 25,5   | 0      | 0      | 25,5   | 25,5   | 0      | 0      |\n",
       "| 504911 | 158    | 2012   | NA     | -      |        | 25,5   | 19,5   | 6      | 0      | 25,5   | 19,5   | 6      | 0      |\n",
       "| 504898 | 158    | 2012   | NA     | -      |        | 28,5   | 19,5   | 0      | 9      | 28,5   | 19,5   | 0      | 9      |\n",
       "| 504997 | 158    | 2012   | NA     | -      |        | 15     | 0      | 9      | 6      | 15     | 0      | 9      | 6      |\n",
       "| 505000 | 158    | 2012   | NA     | -      |        | 15     | 15     | 0      | 0      | 15     | 15     | 0      | 0      |\n",
       "| 504999 | 158    | 2012   | NA     | -      |        | 27     | 22,5   | 0      | 4,5    | 27     | 22,5   | 0      | 4,5    |\n",
       "\n"
      ],
      "text/plain": [
       "  Stud_ID Degree_ID Academic_Year Stud_Job Stud_Scholarship Is_Reg_Open\n",
       "1 504943  158       2012          NA       -                           \n",
       "2 504911  158       2012          NA       -                           \n",
       "3 504898  158       2012          NA       -                           \n",
       "4 504997  158       2012          NA       -                           \n",
       "5 505000  158       2012          NA       -                           \n",
       "6 504999  158       2012          NA       -                           \n",
       "  Credits_Total Credits_Passed_Total Credits_Failed_Total Credits_No_Show_Total\n",
       "1 25,5          25,5                 0                    0                    \n",
       "2 25,5          19,5                 6                    0                    \n",
       "3 28,5          19,5                 0                    9                    \n",
       "4 15            0                    9                    6                    \n",
       "5 15            15                   0                    0                    \n",
       "6 27            22,5                 0                    4,5                  \n",
       "  Credits_Normal_Reg_Total Credits_Passed_Normal Credits_Failed_Normal\n",
       "1 25,5                     25,5                  0                    \n",
       "2 25,5                     19,5                  6                    \n",
       "3 28,5                     19,5                  0                    \n",
       "4 15                       0                     9                    \n",
       "5 15                       15                    0                    \n",
       "6 27                       22,5                  0                    \n",
       "  Credits_No_Show_Normal\n",
       "1 0                     \n",
       "2 0                     \n",
       "3 9                     \n",
       "4 6                     \n",
       "5 0                     \n",
       "6 4,5                   "
      ]
     },
     "metadata": {},
     "output_type": "display_data"
    },
    {
     "data": {
      "text/html": [
       "<table>\n",
       "<thead><tr><th scope=col>Stud_ID</th><th scope=col>Degree_ID</th><th scope=col>Academic_Year</th><th scope=col>Stud_Job</th><th scope=col>Stud_Scholarship</th><th scope=col>Is_Reg_Open</th><th scope=col>Credits_Total</th><th scope=col>Credits_Passed_Total</th><th scope=col>Credits_Failed_Total</th><th scope=col>Credits_No_Show_Total</th><th scope=col>Credits_Normal_Reg_Total</th><th scope=col>Credits_Passed_Normal</th><th scope=col>Credits_Failed_Normal</th><th scope=col>Credits_No_Show_Normal</th></tr></thead>\n",
       "<tbody>\n",
       "\t<tr><td>504943</td><td>158   </td><td>2012  </td><td>NA    </td><td>-     </td><td>      </td><td>25,5  </td><td>25,5  </td><td>0     </td><td>0     </td><td>25,5  </td><td>25,5  </td><td>0     </td><td>0     </td></tr>\n",
       "\t<tr><td>504911</td><td>158   </td><td>2012  </td><td>NA    </td><td>-     </td><td>      </td><td>25,5  </td><td>19,5  </td><td>6     </td><td>0     </td><td>25,5  </td><td>19,5  </td><td>6     </td><td>0     </td></tr>\n",
       "\t<tr><td>504898</td><td>158   </td><td>2012  </td><td>NA    </td><td>-     </td><td>      </td><td>28,5  </td><td>19,5  </td><td>0     </td><td>9     </td><td>28,5  </td><td>19,5  </td><td>0     </td><td>9     </td></tr>\n",
       "\t<tr><td>504997</td><td>158   </td><td>2012  </td><td>NA    </td><td>-     </td><td>      </td><td>15    </td><td>0     </td><td>9     </td><td>6     </td><td>15    </td><td>0     </td><td>9     </td><td>6     </td></tr>\n",
       "\t<tr><td>505000</td><td>158   </td><td>2012  </td><td>NA    </td><td>-     </td><td>      </td><td>15    </td><td>15    </td><td>0     </td><td>0     </td><td>15    </td><td>15    </td><td>0     </td><td>0     </td></tr>\n",
       "\t<tr><td>504999</td><td>158   </td><td>2012  </td><td>NA    </td><td>-     </td><td>      </td><td>27    </td><td>22,5  </td><td>0     </td><td>4,5   </td><td>27    </td><td>22,5  </td><td>0     </td><td>4,5   </td></tr>\n",
       "</tbody>\n",
       "</table>\n"
      ],
      "text/latex": [
       "\\begin{tabular}{r|llllllllllllll}\n",
       " Stud\\_ID & Degree\\_ID & Academic\\_Year & Stud\\_Job & Stud\\_Scholarship & Is\\_Reg\\_Open & Credits\\_Total & Credits\\_Passed\\_Total & Credits\\_Failed\\_Total & Credits\\_No\\_Show\\_Total & Credits\\_Normal\\_Reg\\_Total & Credits\\_Passed\\_Normal & Credits\\_Failed\\_Normal & Credits\\_No\\_Show\\_Normal\\\\\n",
       "\\hline\n",
       "\t 504943 & 158    & 2012   & NA     & -      &        & 25,5   & 25,5   & 0      & 0      & 25,5   & 25,5   & 0      & 0     \\\\\n",
       "\t 504911 & 158    & 2012   & NA     & -      &        & 25,5   & 19,5   & 6      & 0      & 25,5   & 19,5   & 6      & 0     \\\\\n",
       "\t 504898 & 158    & 2012   & NA     & -      &        & 28,5   & 19,5   & 0      & 9      & 28,5   & 19,5   & 0      & 9     \\\\\n",
       "\t 504997 & 158    & 2012   & NA     & -      &        & 15     & 0      & 9      & 6      & 15     & 0      & 9      & 6     \\\\\n",
       "\t 505000 & 158    & 2012   & NA     & -      &        & 15     & 15     & 0      & 0      & 15     & 15     & 0      & 0     \\\\\n",
       "\t 504999 & 158    & 2012   & NA     & -      &        & 27     & 22,5   & 0      & 4,5    & 27     & 22,5   & 0      & 4,5   \\\\\n",
       "\\end{tabular}\n"
      ],
      "text/markdown": [
       "\n",
       "| Stud_ID | Degree_ID | Academic_Year | Stud_Job | Stud_Scholarship | Is_Reg_Open | Credits_Total | Credits_Passed_Total | Credits_Failed_Total | Credits_No_Show_Total | Credits_Normal_Reg_Total | Credits_Passed_Normal | Credits_Failed_Normal | Credits_No_Show_Normal |\n",
       "|---|---|---|---|---|---|---|---|---|---|---|---|---|---|\n",
       "| 504943 | 158    | 2012   | NA     | -      |        | 25,5   | 25,5   | 0      | 0      | 25,5   | 25,5   | 0      | 0      |\n",
       "| 504911 | 158    | 2012   | NA     | -      |        | 25,5   | 19,5   | 6      | 0      | 25,5   | 19,5   | 6      | 0      |\n",
       "| 504898 | 158    | 2012   | NA     | -      |        | 28,5   | 19,5   | 0      | 9      | 28,5   | 19,5   | 0      | 9      |\n",
       "| 504997 | 158    | 2012   | NA     | -      |        | 15     | 0      | 9      | 6      | 15     | 0      | 9      | 6      |\n",
       "| 505000 | 158    | 2012   | NA     | -      |        | 15     | 15     | 0      | 0      | 15     | 15     | 0      | 0      |\n",
       "| 504999 | 158    | 2012   | NA     | -      |        | 27     | 22,5   | 0      | 4,5    | 27     | 22,5   | 0      | 4,5    |\n",
       "\n"
      ],
      "text/plain": [
       "  Stud_ID Degree_ID Academic_Year Stud_Job Stud_Scholarship Is_Reg_Open\n",
       "1 504943  158       2012          NA       -                           \n",
       "2 504911  158       2012          NA       -                           \n",
       "3 504898  158       2012          NA       -                           \n",
       "4 504997  158       2012          NA       -                           \n",
       "5 505000  158       2012          NA       -                           \n",
       "6 504999  158       2012          NA       -                           \n",
       "  Credits_Total Credits_Passed_Total Credits_Failed_Total Credits_No_Show_Total\n",
       "1 25,5          25,5                 0                    0                    \n",
       "2 25,5          19,5                 6                    0                    \n",
       "3 28,5          19,5                 0                    9                    \n",
       "4 15            0                    9                    6                    \n",
       "5 15            15                   0                    0                    \n",
       "6 27            22,5                 0                    4,5                  \n",
       "  Credits_Normal_Reg_Total Credits_Passed_Normal Credits_Failed_Normal\n",
       "1 25,5                     25,5                  0                    \n",
       "2 25,5                     19,5                  6                    \n",
       "3 28,5                     19,5                  0                    \n",
       "4 15                       0                     9                    \n",
       "5 15                       15                    0                    \n",
       "6 27                       22,5                  0                    \n",
       "  Credits_No_Show_Normal\n",
       "1 0                     \n",
       "2 0                     \n",
       "3 9                     \n",
       "4 6                     \n",
       "5 0                     \n",
       "6 4,5                   "
      ]
     },
     "metadata": {},
     "output_type": "display_data"
    }
   ],
   "source": [
    "head(years_df)\n",
    "colnames(years_df) <- c(\n",
    "    \"Stud_ID\",\n",
    "    \"Degree_ID\",\n",
    "    \"Academic_Year\",\n",
    "    \"Stud_Job\",\n",
    "    \"Stud_Scholarship\",\n",
    "    \"Is_Reg_Open\",\n",
    "    \"Credits_Total\",\n",
    "    \"Credits_Passed_Total\",\n",
    "    \"Credits_Failed_Total\",\n",
    "    \"Credits_No_Show_Total\",\n",
    "    \"Credits_Normal_Reg_Total\",\n",
    "    \"Credits_Passed_Normal\",\n",
    "    \"Credits_Failed_Normal\",\n",
    "    \"Credits_No_Show_Normal\")\n",
    "head(years_df)"
   ]
  },
  {
   "cell_type": "markdown",
   "id": "aa1f6c96",
   "metadata": {},
   "source": []
  },
  {
   "cell_type": "markdown",
   "id": "6874ad17",
   "metadata": {},
   "source": [
    "# Data cleaning\n",
    "To make our life easier, lets drop all NA values"
   ]
  },
  {
   "cell_type": "markdown",
   "id": "b8456e09",
   "metadata": {},
   "source": [
    "### Enrolments\n",
    "Verify the summary if there are some values missing"
   ]
  },
  {
   "cell_type": "code",
   "execution_count": 162,
   "id": "0717beb7",
   "metadata": {},
   "outputs": [
    {
     "data": {
      "text/plain": [
       "    Stud_ID         Degree_ID       Start_Year   Enrolment_Type Admission_Grade\n",
       " Min.   :  1529   Min.   :156.0   Min.   :2010   NAP    :6628          :2673   \n",
       " 1st Qu.:497177   1st Qu.:156.0   1st Qu.:2013   NUE    :1366   7      :  43   \n",
       " Median :552597   Median :156.0   Median :2015          :1101   6      :  33   \n",
       " Mean   :541299   Mean   :158.3   Mean   :2015   BMA    : 623   7,2    :  24   \n",
       " 3rd Qu.:616978   3rd Qu.:158.0   3rd Qu.:2018   NAI    : 586   6,5    :  23   \n",
       " Max.   :705508   Max.   :189.0   Max.   :2020   NCA    : 317   7,5    :  23   \n",
       " NA's   :5                                       (Other): 828   (Other):8630   \n",
       " ING_CONV  Prev_Studies      Entry_Type    Course_Title    Start_Age    \n",
       "  :2680   Min.   : 2.000   G      :8382   Min.   :2013   Min.   :16.00  \n",
       " J:8651   1st Qu.:10.000          :2674   1st Qu.:2015   1st Qu.:18.00  \n",
       " S: 118   Median :10.000   T      : 156   Median :2017   Median :18.00  \n",
       "          Mean   : 9.245   M      : 119   Mean   :2017   Mean   :20.56  \n",
       "          3rd Qu.:10.000   D      :  51   3rd Qu.:2019   3rd Qu.:21.00  \n",
       "          Max.   :14.000   H      :  50   Max.   :2020   Max.   :65.00  \n",
       "          NA's   :2674     (Other):  17   NA's   :8936   NA's   :640    \n",
       " Sex      Father_Edu_Lev  Mother_Edu_Lev  CRE_RECON_INI      Numpre     \n",
       "  :  19   Min.   :1.000   Min.   :1.000   60     :2991   Min.   : 1.00  \n",
       " M:2894   1st Qu.:3.000   1st Qu.:3.000          :1906   1st Qu.: 1.00  \n",
       " V:8536   Median :4.000   Median :4.000   0      : 687   Median : 1.00  \n",
       "          Mean   :4.043   Mean   :4.063   42     : 583   Mean   : 1.64  \n",
       "          3rd Qu.:5.000   3rd Qu.:5.000   18     : 447   3rd Qu.: 2.00  \n",
       "          Max.   :6.000   Max.   :6.000   48     : 424   Max.   :17.00  \n",
       "          NA's   :2207    NA's   :2207    (Other):4411   NA's   :3432   "
      ]
     },
     "metadata": {},
     "output_type": "display_data"
    }
   ],
   "source": [
    "summary(enrolments_df)"
   ]
  },
  {
   "cell_type": "raw",
   "id": "6e0375e1",
   "metadata": {},
   "source": [
    "As we can see from the column Stud_ID - there are:\n",
    "    5 NA in column STUD_ID\n",
    "    2674 in column Prev_Studies\n",
    "    And so on and so on\n",
    "    \n",
    "We want to drop those rows for now, to make our life easier. \n",
    "Later, we can take into considerration, if it is necessary to drop rows, where there is a lack of information from a chosen column. "
   ]
  },
  {
   "cell_type": "code",
   "execution_count": 164,
   "id": "bdd4fcaa",
   "metadata": {},
   "outputs": [
    {
     "data": {
      "text/plain": [
       "    Stud_ID         Degree_ID       Start_Year   Enrolment_Type Admission_Grade\n",
       " Min.   : 43654   Min.   :156.0   Min.   :2010   NAP    :1958   6      :   8   \n",
       " 1st Qu.:479185   1st Qu.:156.0   1st Qu.:2011   NLE    :  52   7,5    :   8   \n",
       " Median :515393   Median :156.0   Median :2013   NSC    :  15   8      :   8   \n",
       " Mean   :513712   Mean   :156.8   Mean   :2013   NRO    :  10   6,7    :   7   \n",
       " 3rd Qu.:552335   3rd Qu.:158.0   3rd Qu.:2015   NSA    :   4   7      :   6   \n",
       " Max.   :619168   Max.   :182.0   Max.   :2018   NTE    :   4   10     :   5   \n",
       "                                                 (Other):   4   (Other):2005   \n",
       " ING_CONV  Prev_Studies      Entry_Type    Course_Title    Start_Age    \n",
       "  :   0   Min.   : 4.000   G      :2017   Min.   :2013   Min.   :17.00  \n",
       " J:2035   1st Qu.:10.000   M      :  14   1st Qu.:2015   1st Qu.:18.00  \n",
       " S:  12   Median :10.000   T      :  10   Median :2017   Median :18.00  \n",
       "          Mean   : 9.275   D      :   3   Mean   :2017   Mean   :18.75  \n",
       "          3rd Qu.:10.000   N      :   3   3rd Qu.:2019   3rd Qu.:19.00  \n",
       "          Max.   :13.000          :   0   Max.   :2020   Max.   :54.00  \n",
       "                           (Other):   0                                 \n",
       " Sex      Father_Edu_Lev  Mother_Edu_Lev  CRE_RECON_INI      Numpre      \n",
       "  :   0   Min.   :1.000   Min.   :1.000   60     :1273   Min.   : 1.000  \n",
       " M: 481   1st Qu.:3.000   1st Qu.:3.000   48     : 132   1st Qu.: 1.000  \n",
       " V:1566   Median :4.000   Median :4.000   42     : 118   Median : 1.000  \n",
       "          Mean   :4.005   Mean   :4.022   54     : 106   Mean   : 1.325  \n",
       "          3rd Qu.:5.000   3rd Qu.:5.000   36     :  89   3rd Qu.: 1.000  \n",
       "          Max.   :6.000   Max.   :6.000   30     :  56   Max.   :10.000  \n",
       "                                          (Other): 273                   "
      ]
     },
     "metadata": {},
     "output_type": "display_data"
    }
   ],
   "source": [
    "# Data cleaning\n",
    "enrolments_df_clean <- na.omit(enrolments_df) \n",
    "summary(enrolments_df_clean)"
   ]
  },
  {
   "cell_type": "markdown",
   "id": "1dd85207",
   "metadata": {},
   "source": [
    "As we can see now, there are no NAs in our table."
   ]
  },
  {
   "cell_type": "markdown",
   "id": "0273ad79",
   "metadata": {},
   "source": [
    "## Courses and Years\n",
    "Now we will do the same for those two tables"
   ]
  },
  {
   "cell_type": "code",
   "execution_count": 166,
   "id": "dc668d5b",
   "metadata": {},
   "outputs": [
    {
     "name": "stdout",
     "output_type": "stream",
     "text": [
      "[1] \"COURSES\"\n",
      "[1] \"_____________________________________\"\n"
     ]
    },
    {
     "data": {
      "text/plain": [
       "    Stud_ID         Degree_ID     Course_ID     Academic_Year  Course_Section  \n",
       " Min.   :  1529   Min.   :156   Min.   :  -14   Min.   :2010          : 12467  \n",
       " 1st Qu.:493513   1st Qu.:156   1st Qu.:11548   1st Qu.:2014   2A1    :  5734  \n",
       " Median :532411   Median :156   Median :11565   Median :2016   2A2    :  5440  \n",
       " Mean   :532522   Mean   :158   Mean   :11638   Mean   :2016   1A1    :  5231  \n",
       " 3rd Qu.:594304   3rd Qu.:158   3rd Qu.:11744   3rd Qu.:2018   1A2    :  4940  \n",
       " Max.   :689127   Max.   :189   Max.   :34254   Max.   :2020   3A1    :  3731  \n",
       " NA's   :55                                                    (Other):169933  \n",
       "      ECTS          Course_Mod    Mod_Type   COND_ASI   ACTA      \n",
       " 6      :130659   Min.   :0.00     : 46101    :207414   -: 14571  \n",
       " 4,5    : 61319   1st Qu.:1.00    7:   454   +:    13   L:  1875  \n",
       " 9      : 10155   Median :2.00    A:     2   B:    45   S:191030  \n",
       " 12     :  2701   Mean   :2.09    B:128120   G:     2             \n",
       " 1      :   980   3rd Qu.:3.00    G: 30924   M:     2             \n",
       " 7,5    :   743   Max.   :5.00    L:  1875                        \n",
       " (Other):   919   NA's   :46101                                   \n",
       "  Final_Grade     CAL       Course_Type\n",
       " 5      : 13320   A:87033   B:89912    \n",
       " 7      :  8843   E:12078   G: 2266    \n",
       "        :  7871   M: 5719   L: 3396    \n",
       " 6      :  6920   N:65082   O:40498    \n",
       " 8      :  6343   S:29693   S:71404    \n",
       " 9      :  5816   X:    1              \n",
       " (Other):158363   Z: 7870              "
      ]
     },
     "metadata": {},
     "output_type": "display_data"
    },
    {
     "name": "stdout",
     "output_type": "stream",
     "text": [
      "[1] \"YEARS\"\n",
      "[1] \"_____________________________________\"\n"
     ]
    },
    {
     "data": {
      "text/plain": [
       "    Stud_ID         Degree_ID     Academic_Year     Stud_Job    \n",
       " Min.   :  1529   Min.   :156.0   Min.   :2010   Min.   :0.000  \n",
       " 1st Qu.:479242   1st Qu.:156.0   1st Qu.:2014   1st Qu.:0.000  \n",
       " Median :528995   Median :156.0   Median :2016   Median :0.000  \n",
       " Mean   :526745   Mean   :157.9   Mean   :2016   Mean   :1.242  \n",
       " 3rd Qu.:589397   3rd Qu.:158.0   3rd Qu.:2018   3rd Qu.:3.000  \n",
       " Max.   :689127   Max.   :189.0   Max.   :2020   Max.   :4.000  \n",
       " NA's   :6                                       NA's   :1324   \n",
       " Stud_Scholarship  Is_Reg_Open    Credits_Total   Credits_Passed_Total\n",
       " -:12166                 :24172   60     : 7702   60     : 4375       \n",
       " N: 3762          B      :  122   30     : 1621   30     : 1524       \n",
       " P:  217          A      :   11   54     : 1160   54     : 1306       \n",
       " S: 8177          E      :   10   42     :  744   0      : 1109       \n",
       "                  T      :    2   48     :  722   12     :  992       \n",
       "                  Y      :    2   12     :  597   42     :  979       \n",
       "                  (Other):    3   (Other):11776   (Other):14037       \n",
       " Credits_Failed_Total Credits_No_Show_Total Credits_Normal_Reg_Total\n",
       " 0      :14291        0      :20775         60     : 7699           \n",
       " 6      : 2170        6      : 1023         30     : 1617           \n",
       " 12     : 1320        4,5    :  710         54     : 1161           \n",
       " 18     :  941        12     :  372         42     :  746           \n",
       " 4,5    :  794        9      :  224         48     :  722           \n",
       " 24     :  678        18     :  204         12     :  596           \n",
       " (Other): 4128        (Other): 1014         (Other):11781           \n",
       " Credits_Passed_Normal Credits_Failed_Normal Credits_No_Show_Normal\n",
       " 60     : 4375         0      :14330         0      :20787         \n",
       " 30     : 1524         6      : 2141         6      : 1015         \n",
       " 54     : 1306         12     : 1318         4,5    :  707         \n",
       " 0      : 1109         18     :  940         12     :  372         \n",
       " 12     :  992         4,5    :  789         9      :  224         \n",
       " 42     :  979         24     :  678         18     :  203         \n",
       " (Other):14037         (Other): 4126         (Other): 1014         "
      ]
     },
     "metadata": {},
     "output_type": "display_data"
    }
   ],
   "source": [
    "print(\"COURSES\")\n",
    "print(\"_____________________________________\")\n",
    "summary(courses_df)\n",
    "\n",
    "print(\"YEARS\")\n",
    "print(\"_____________________________________\")\n",
    "summary(years_df)"
   ]
  },
  {
   "cell_type": "code",
   "execution_count": 167,
   "id": "dd1c317f",
   "metadata": {},
   "outputs": [
    {
     "name": "stdout",
     "output_type": "stream",
     "text": [
      "[1] \"Clean courses\"\n",
      "[1] \"_____________________________________\"\n"
     ]
    },
    {
     "data": {
      "text/plain": [
       "    Stud_ID         Degree_ID       Course_ID     Academic_Year \n",
       " Min.   :  1529   Min.   :156.0   Min.   :  -14   Min.   :2010  \n",
       " 1st Qu.:479016   1st Qu.:156.0   1st Qu.:11547   1st Qu.:2013  \n",
       " Median :515587   Median :156.0   Median :11563   Median :2015  \n",
       " Mean   :511748   Mean   :157.4   Mean   :11568   Mean   :2015  \n",
       " 3rd Qu.:552800   3rd Qu.:158.0   3rd Qu.:11741   3rd Qu.:2017  \n",
       " Max.   :688361   Max.   :189.0   Max.   :14104   Max.   :2020  \n",
       "                                                                \n",
       " Course_Section        ECTS          Course_Mod    Mod_Type   COND_ASI  \n",
       "        :  5987   6      :100722   Min.   :0.000    :     0    :161275  \n",
       " 2A1    :  4768   4,5    : 47367   1st Qu.:1.000   7:   454   +:    10  \n",
       " 2A2    :  4437   9      :  8436   Median :2.000   A:     2   B:    32  \n",
       " 1A1    :  4350   12     :  2392   Mean   :2.086   B:128101   G:     2  \n",
       " 1A2    :  4131   1      :   980   3rd Qu.:3.000   G: 30888   M:     1  \n",
       " 3TI    :  2972   7,5    :   549   Max.   :5.000   L:  1875             \n",
       " (Other):134675   (Other):   874                                        \n",
       " ACTA        Final_Grade     CAL       Course_Type\n",
       " -:  7675   5      : 11124   A:69707   B:68586    \n",
       " L:  1875   7      :  6852   E: 8258   G: 1778    \n",
       " S:151770          :  6260   M: 4235   L: 1875    \n",
       "            6      :  5618   N:47984   O:31342    \n",
       "            8      :  4819   S:24876   S:57739    \n",
       "            9      :  4290   X:    1              \n",
       "            (Other):122357   Z: 6259              "
      ]
     },
     "metadata": {},
     "output_type": "display_data"
    },
    {
     "name": "stdout",
     "output_type": "stream",
     "text": [
      "[1] \"Clean years\"\n",
      "[1] \"_____________________________________\"\n"
     ]
    },
    {
     "data": {
      "text/plain": [
       "    Stud_ID         Degree_ID     Academic_Year     Stud_Job    \n",
       " Min.   :  1529   Min.   :156.0   Min.   :2010   Min.   :0.000  \n",
       " 1st Qu.:479127   1st Qu.:156.0   1st Qu.:2014   1st Qu.:0.000  \n",
       " Median :528914   Median :156.0   Median :2016   Median :0.000  \n",
       " Mean   :524000   Mean   :157.9   Mean   :2016   Mean   :1.242  \n",
       " 3rd Qu.:577940   3rd Qu.:158.0   3rd Qu.:2018   3rd Qu.:3.000  \n",
       " Max.   :689127   Max.   :189.0   Max.   :2020   Max.   :4.000  \n",
       "                                                                \n",
       " Stud_Scholarship  Is_Reg_Open    Credits_Total   Credits_Passed_Total\n",
       " -:10846                 :22848   60     : 7676   60     : 4363       \n",
       " N: 3761          B      :  122   30     : 1478   30     : 1446       \n",
       " P:  217          A      :   11   54     : 1151   54     : 1296       \n",
       " S: 8174          E      :   10   42     :  738   0      : 1031       \n",
       "                  T      :    2   48     :  715   42     :  972       \n",
       "                  Y      :    2   12     :  592   12     :  970       \n",
       "                  (Other):    3   (Other):10648   (Other):12920       \n",
       " Credits_Failed_Total Credits_No_Show_Total Credits_Normal_Reg_Total\n",
       " 0      :13517        0      :19953         60     : 7673           \n",
       " 6      : 1985        6      :  904         30     : 1474           \n",
       " 12     : 1287        4,5    :  551         54     : 1152           \n",
       " 18     :  922        12     :  347         42     :  740           \n",
       " 4,5    :  683        18     :  195         48     :  715           \n",
       " 24     :  670        9      :  176         12     :  591           \n",
       " (Other): 3934        (Other):  872         (Other):10653           \n",
       " Credits_Passed_Normal Credits_Failed_Normal Credits_No_Show_Normal\n",
       " 60     : 4363         0      :13556         0      :19965         \n",
       " 30     : 1446         6      : 1956         6      :  896         \n",
       " 54     : 1296         12     : 1285         4,5    :  548         \n",
       " 0      : 1031         18     :  921         12     :  347         \n",
       " 42     :  972         4,5    :  678         18     :  194         \n",
       " 12     :  970         24     :  670         9      :  176         \n",
       " (Other):12920         (Other): 3932         (Other):  872         "
      ]
     },
     "metadata": {},
     "output_type": "display_data"
    }
   ],
   "source": [
    "print(\"Clean courses\")\n",
    "print(\"_____________________________________\")\n",
    "courses_df_clean <- na.omit(courses_df) \n",
    "summary(courses_df_clean)\n",
    "\n",
    "print(\"Clean years\")\n",
    "print(\"_____________________________________\")\n",
    "years_df_clean <- na.omit(years_df) \n",
    "summary(years_df_clean)"
   ]
  },
  {
   "cell_type": "markdown",
   "id": "82e25786",
   "metadata": {},
   "source": [
    "______________________________________________________\n",
    "# DATA JOINING"
   ]
  },
  {
   "cell_type": "raw",
   "id": "e8e9aa09",
   "metadata": {},
   "source": [
    "Right now, we have clean - three tables of data about the students. In this  step we are going to join those three tables into one. \n",
    "\n",
    "As it can be seen from the script below, each table has a column which relates to all the students --> Student_ID and Degree_ID\n",
    "\n",
    "We need to choose 1 primary key, which we will use to merge the tables. \n",
    "I decide to use Stud_ID. In my opinion, merging on Degree_ID would be incorrect. Why? I need to think more, but know I follow my instinct that it will make no sense \n",
    "\n"
   ]
  },
  {
   "cell_type": "code",
   "execution_count": 172,
   "id": "24ddd44d",
   "metadata": {},
   "outputs": [
    {
     "data": {
      "text/html": [
       "<table>\n",
       "<thead><tr><th scope=col>Stud_ID</th><th scope=col>Degree_ID</th><th scope=col>Start_Year</th><th scope=col>Enrolment_Type</th><th scope=col>Admission_Grade</th><th scope=col>ING_CONV</th><th scope=col>Prev_Studies</th><th scope=col>Entry_Type</th><th scope=col>Course_Title</th><th scope=col>Start_Age</th><th scope=col>Sex</th><th scope=col>Father_Edu_Lev</th><th scope=col>Mother_Edu_Lev</th><th scope=col>CRE_RECON_INI</th><th scope=col>Numpre</th></tr></thead>\n",
       "<tbody>\n",
       "</tbody>\n",
       "</table>\n"
      ],
      "text/latex": [
       "\\begin{tabular}{r|lllllllllllllll}\n",
       " Stud\\_ID & Degree\\_ID & Start\\_Year & Enrolment\\_Type & Admission\\_Grade & ING\\_CONV & Prev\\_Studies & Entry\\_Type & Course\\_Title & Start\\_Age & Sex & Father\\_Edu\\_Lev & Mother\\_Edu\\_Lev & CRE\\_RECON\\_INI & Numpre\\\\\n",
       "\\hline\n",
       "\\end{tabular}\n"
      ],
      "text/markdown": [
       "\n",
       "| Stud_ID | Degree_ID | Start_Year | Enrolment_Type | Admission_Grade | ING_CONV | Prev_Studies | Entry_Type | Course_Title | Start_Age | Sex | Father_Edu_Lev | Mother_Edu_Lev | CRE_RECON_INI | Numpre |\n",
       "|---|---|---|---|---|---|---|---|---|---|---|---|---|---|---|\n",
       "\n"
      ],
      "text/plain": [
       "     Stud_ID Degree_ID Start_Year Enrolment_Type Admission_Grade ING_CONV\n",
       "     Prev_Studies Entry_Type Course_Title Start_Age Sex Father_Edu_Lev\n",
       "     Mother_Edu_Lev CRE_RECON_INI Numpre"
      ]
     },
     "metadata": {},
     "output_type": "display_data"
    },
    {
     "data": {
      "text/html": [
       "<table>\n",
       "<thead><tr><th scope=col>Stud_ID</th><th scope=col>Degree_ID</th><th scope=col>Academic_Year</th><th scope=col>Stud_Job</th><th scope=col>Stud_Scholarship</th><th scope=col>Is_Reg_Open</th><th scope=col>Credits_Total</th><th scope=col>Credits_Passed_Total</th><th scope=col>Credits_Failed_Total</th><th scope=col>Credits_No_Show_Total</th><th scope=col>Credits_Normal_Reg_Total</th><th scope=col>Credits_Passed_Normal</th><th scope=col>Credits_Failed_Normal</th><th scope=col>Credits_No_Show_Normal</th></tr></thead>\n",
       "<tbody>\n",
       "</tbody>\n",
       "</table>\n"
      ],
      "text/latex": [
       "\\begin{tabular}{r|llllllllllllll}\n",
       " Stud\\_ID & Degree\\_ID & Academic\\_Year & Stud\\_Job & Stud\\_Scholarship & Is\\_Reg\\_Open & Credits\\_Total & Credits\\_Passed\\_Total & Credits\\_Failed\\_Total & Credits\\_No\\_Show\\_Total & Credits\\_Normal\\_Reg\\_Total & Credits\\_Passed\\_Normal & Credits\\_Failed\\_Normal & Credits\\_No\\_Show\\_Normal\\\\\n",
       "\\hline\n",
       "\\end{tabular}\n"
      ],
      "text/markdown": [
       "\n",
       "| Stud_ID | Degree_ID | Academic_Year | Stud_Job | Stud_Scholarship | Is_Reg_Open | Credits_Total | Credits_Passed_Total | Credits_Failed_Total | Credits_No_Show_Total | Credits_Normal_Reg_Total | Credits_Passed_Normal | Credits_Failed_Normal | Credits_No_Show_Normal |\n",
       "|---|---|---|---|---|---|---|---|---|---|---|---|---|---|\n",
       "\n"
      ],
      "text/plain": [
       "     Stud_ID Degree_ID Academic_Year Stud_Job Stud_Scholarship Is_Reg_Open\n",
       "     Credits_Total Credits_Passed_Total Credits_Failed_Total\n",
       "     Credits_No_Show_Total Credits_Normal_Reg_Total Credits_Passed_Normal\n",
       "     Credits_Failed_Normal Credits_No_Show_Normal"
      ]
     },
     "metadata": {},
     "output_type": "display_data"
    },
    {
     "data": {
      "text/html": [
       "<table>\n",
       "<thead><tr><th scope=col>Stud_ID</th><th scope=col>Degree_ID</th><th scope=col>Course_ID</th><th scope=col>Academic_Year</th><th scope=col>Course_Section</th><th scope=col>ECTS</th><th scope=col>Course_Mod</th><th scope=col>Mod_Type</th><th scope=col>COND_ASI</th><th scope=col>ACTA</th><th scope=col>Final_Grade</th><th scope=col>CAL</th><th scope=col>Course_Type</th></tr></thead>\n",
       "<tbody>\n",
       "</tbody>\n",
       "</table>\n"
      ],
      "text/latex": [
       "\\begin{tabular}{r|lllllllllllll}\n",
       " Stud\\_ID & Degree\\_ID & Course\\_ID & Academic\\_Year & Course\\_Section & ECTS & Course\\_Mod & Mod\\_Type & COND\\_ASI & ACTA & Final\\_Grade & CAL & Course\\_Type\\\\\n",
       "\\hline\n",
       "\\end{tabular}\n"
      ],
      "text/markdown": [
       "\n",
       "| Stud_ID | Degree_ID | Course_ID | Academic_Year | Course_Section | ECTS | Course_Mod | Mod_Type | COND_ASI | ACTA | Final_Grade | CAL | Course_Type |\n",
       "|---|---|---|---|---|---|---|---|---|---|---|---|---|\n",
       "\n"
      ],
      "text/plain": [
       "     Stud_ID Degree_ID Course_ID Academic_Year Course_Section ECTS Course_Mod\n",
       "     Mod_Type COND_ASI ACTA Final_Grade CAL Course_Type"
      ]
     },
     "metadata": {},
     "output_type": "display_data"
    }
   ],
   "source": [
    "head(enrolments_df_clean, 0)\n",
    "head(years_df_clean, 0)\n",
    "head(courses_df_clean, 0)"
   ]
  },
  {
   "cell_type": "markdown",
   "id": "2c3eebea",
   "metadata": {},
   "source": [
    "### Enrolments + Courses + Years\n",
    "    I would like to be able to merge the general data from enrolmens to courses. I want to be able to identify which student participated in which courses, when he/she started ect. \n",
    "    \n",
    "    I will merge on Stud_ID\n",
    "    \n",
    "    I will use \"Inner join\" method, as I want to have the data for students, who appeares in both datasets"
   ]
  },
  {
   "cell_type": "code",
   "execution_count": 175,
   "id": "e507b100",
   "metadata": {},
   "outputs": [
    {
     "data": {
      "text/html": [
       "<table>\n",
       "<thead><tr><th></th><th scope=col>Stud_ID</th><th scope=col>Degree_ID</th><th scope=col>Start_Year</th><th scope=col>Enrolment_Type</th><th scope=col>Admission_Grade</th><th scope=col>ING_CONV</th><th scope=col>Prev_Studies</th><th scope=col>Entry_Type</th><th scope=col>Course_Title</th><th scope=col>Start_Age</th><th scope=col>Sex</th><th scope=col>Father_Edu_Lev</th><th scope=col>Mother_Edu_Lev</th><th scope=col>CRE_RECON_INI</th><th scope=col>Numpre</th></tr></thead>\n",
       "<tbody>\n",
       "\t<tr><th scope=row>4</th><td>460803</td><td>156   </td><td>2010  </td><td>NAP   </td><td>6,833 </td><td>J     </td><td>11    </td><td>G     </td><td>2014  </td><td>18    </td><td>V     </td><td>5     </td><td>4     </td><td>60    </td><td>1     </td></tr>\n",
       "\t<tr><th scope=row>7</th><td>460841</td><td>156   </td><td>2010  </td><td>NAP   </td><td>6,1   </td><td>J     </td><td>10    </td><td>G     </td><td>2017  </td><td>19    </td><td>M     </td><td>4     </td><td>3     </td><td>30    </td><td>1     </td></tr>\n",
       "\t<tr><th scope=row>9</th><td>460463</td><td>158   </td><td>2010  </td><td>NAP   </td><td>9,618 </td><td>J     </td><td>10    </td><td>G     </td><td>2014  </td><td>18    </td><td>V     </td><td>3     </td><td>3     </td><td>60    </td><td>2     </td></tr>\n",
       "\t<tr><th scope=row>11</th><td>461003</td><td>156   </td><td>2010  </td><td>NAP   </td><td>10,02 </td><td>J     </td><td>10    </td><td>G     </td><td>2013  </td><td>18    </td><td>M     </td><td>3     </td><td>5     </td><td>60    </td><td>1     </td></tr>\n",
       "\t<tr><th scope=row>14</th><td>331928</td><td>156   </td><td>2010  </td><td>NAP   </td><td>10,25 </td><td>J     </td><td> 5    </td><td>G     </td><td>2014  </td><td>24    </td><td>V     </td><td>5     </td><td>5     </td><td>60    </td><td>1     </td></tr>\n",
       "\t<tr><th scope=row>15</th><td>460393</td><td>158   </td><td>2010  </td><td>NAP   </td><td>10,056</td><td>J     </td><td>10    </td><td>G     </td><td>2015  </td><td>18    </td><td>M     </td><td>5     </td><td>5     </td><td>60    </td><td>3     </td></tr>\n",
       "</tbody>\n",
       "</table>\n"
      ],
      "text/latex": [
       "\\begin{tabular}{r|lllllllllllllll}\n",
       "  & Stud\\_ID & Degree\\_ID & Start\\_Year & Enrolment\\_Type & Admission\\_Grade & ING\\_CONV & Prev\\_Studies & Entry\\_Type & Course\\_Title & Start\\_Age & Sex & Father\\_Edu\\_Lev & Mother\\_Edu\\_Lev & CRE\\_RECON\\_INI & Numpre\\\\\n",
       "\\hline\n",
       "\t4 & 460803 & 156    & 2010   & NAP    & 6,833  & J      & 11     & G      & 2014   & 18     & V      & 5      & 4      & 60     & 1     \\\\\n",
       "\t7 & 460841 & 156    & 2010   & NAP    & 6,1    & J      & 10     & G      & 2017   & 19     & M      & 4      & 3      & 30     & 1     \\\\\n",
       "\t9 & 460463 & 158    & 2010   & NAP    & 9,618  & J      & 10     & G      & 2014   & 18     & V      & 3      & 3      & 60     & 2     \\\\\n",
       "\t11 & 461003 & 156    & 2010   & NAP    & 10,02  & J      & 10     & G      & 2013   & 18     & M      & 3      & 5      & 60     & 1     \\\\\n",
       "\t14 & 331928 & 156    & 2010   & NAP    & 10,25  & J      &  5     & G      & 2014   & 24     & V      & 5      & 5      & 60     & 1     \\\\\n",
       "\t15 & 460393 & 158    & 2010   & NAP    & 10,056 & J      & 10     & G      & 2015   & 18     & M      & 5      & 5      & 60     & 3     \\\\\n",
       "\\end{tabular}\n"
      ],
      "text/markdown": [
       "\n",
       "| <!--/--> | Stud_ID | Degree_ID | Start_Year | Enrolment_Type | Admission_Grade | ING_CONV | Prev_Studies | Entry_Type | Course_Title | Start_Age | Sex | Father_Edu_Lev | Mother_Edu_Lev | CRE_RECON_INI | Numpre |\n",
       "|---|---|---|---|---|---|---|---|---|---|---|---|---|---|---|---|\n",
       "| 4 | 460803 | 156    | 2010   | NAP    | 6,833  | J      | 11     | G      | 2014   | 18     | V      | 5      | 4      | 60     | 1      |\n",
       "| 7 | 460841 | 156    | 2010   | NAP    | 6,1    | J      | 10     | G      | 2017   | 19     | M      | 4      | 3      | 30     | 1      |\n",
       "| 9 | 460463 | 158    | 2010   | NAP    | 9,618  | J      | 10     | G      | 2014   | 18     | V      | 3      | 3      | 60     | 2      |\n",
       "| 11 | 461003 | 156    | 2010   | NAP    | 10,02  | J      | 10     | G      | 2013   | 18     | M      | 3      | 5      | 60     | 1      |\n",
       "| 14 | 331928 | 156    | 2010   | NAP    | 10,25  | J      |  5     | G      | 2014   | 24     | V      | 5      | 5      | 60     | 1      |\n",
       "| 15 | 460393 | 158    | 2010   | NAP    | 10,056 | J      | 10     | G      | 2015   | 18     | M      | 5      | 5      | 60     | 3      |\n",
       "\n"
      ],
      "text/plain": [
       "   Stud_ID Degree_ID Start_Year Enrolment_Type Admission_Grade ING_CONV\n",
       "4  460803  156       2010       NAP            6,833           J       \n",
       "7  460841  156       2010       NAP            6,1             J       \n",
       "9  460463  158       2010       NAP            9,618           J       \n",
       "11 461003  156       2010       NAP            10,02           J       \n",
       "14 331928  156       2010       NAP            10,25           J       \n",
       "15 460393  158       2010       NAP            10,056          J       \n",
       "   Prev_Studies Entry_Type Course_Title Start_Age Sex Father_Edu_Lev\n",
       "4  11           G          2014         18        V   5             \n",
       "7  10           G          2017         19        M   4             \n",
       "9  10           G          2014         18        V   3             \n",
       "11 10           G          2013         18        M   3             \n",
       "14  5           G          2014         24        V   5             \n",
       "15 10           G          2015         18        M   5             \n",
       "   Mother_Edu_Lev CRE_RECON_INI Numpre\n",
       "4  4              60            1     \n",
       "7  3              30            1     \n",
       "9  3              60            2     \n",
       "11 5              60            1     \n",
       "14 5              60            1     \n",
       "15 5              60            3     "
      ]
     },
     "metadata": {},
     "output_type": "display_data"
    },
    {
     "data": {
      "text/html": [
       "<table>\n",
       "<thead><tr><th scope=col>Stud_ID</th><th scope=col>Degree_ID</th><th scope=col>Course_ID</th><th scope=col>Academic_Year</th><th scope=col>Course_Section</th><th scope=col>ECTS</th><th scope=col>Course_Mod</th><th scope=col>Mod_Type</th><th scope=col>COND_ASI</th><th scope=col>ACTA</th><th scope=col>Final_Grade</th><th scope=col>CAL</th><th scope=col>Course_Type</th></tr></thead>\n",
       "<tbody>\n",
       "\t<tr><td>12428</td><td>156  </td><td>11553</td><td>2014 </td><td>RE1  </td><td>6    </td><td>3    </td><td>B    </td><td>     </td><td>S    </td><td>7,1  </td><td>N    </td><td>B    </td></tr>\n",
       "\t<tr><td>12428</td><td>156  </td><td>11567</td><td>2014 </td><td>RE1  </td><td>4,5  </td><td>3    </td><td>G    </td><td>     </td><td>S    </td><td>8,1  </td><td>N    </td><td>O    </td></tr>\n",
       "\t<tr><td>12428</td><td>156  </td><td>11572</td><td>2014 </td><td>RE1  </td><td>4,5  </td><td>4    </td><td>G    </td><td>     </td><td>S    </td><td>8    </td><td>N    </td><td>O    </td></tr>\n",
       "\t<tr><td>12428</td><td>156  </td><td>11568</td><td>2014 </td><td>RE1  </td><td>4,5  </td><td>3    </td><td>G    </td><td>     </td><td>S    </td><td>7,8  </td><td>N    </td><td>O    </td></tr>\n",
       "\t<tr><td>12428</td><td>156  </td><td>11660</td><td>2015 </td><td>TFG  </td><td>12   </td><td>4    </td><td>B    </td><td>     </td><td>-    </td><td>7,5  </td><td>N    </td><td>G    </td></tr>\n",
       "\t<tr><td>12428</td><td>156  </td><td>11560</td><td>2015 </td><td>RE1  </td><td>4,5  </td><td>3    </td><td>B    </td><td>     </td><td>S    </td><td>7,1  </td><td>N    </td><td>B    </td></tr>\n",
       "</tbody>\n",
       "</table>\n"
      ],
      "text/latex": [
       "\\begin{tabular}{r|lllllllllllll}\n",
       " Stud\\_ID & Degree\\_ID & Course\\_ID & Academic\\_Year & Course\\_Section & ECTS & Course\\_Mod & Mod\\_Type & COND\\_ASI & ACTA & Final\\_Grade & CAL & Course\\_Type\\\\\n",
       "\\hline\n",
       "\t 12428 & 156   & 11553 & 2014  & RE1   & 6     & 3     & B     &       & S     & 7,1   & N     & B    \\\\\n",
       "\t 12428 & 156   & 11567 & 2014  & RE1   & 4,5   & 3     & G     &       & S     & 8,1   & N     & O    \\\\\n",
       "\t 12428 & 156   & 11572 & 2014  & RE1   & 4,5   & 4     & G     &       & S     & 8     & N     & O    \\\\\n",
       "\t 12428 & 156   & 11568 & 2014  & RE1   & 4,5   & 3     & G     &       & S     & 7,8   & N     & O    \\\\\n",
       "\t 12428 & 156   & 11660 & 2015  & TFG   & 12    & 4     & B     &       & -     & 7,5   & N     & G    \\\\\n",
       "\t 12428 & 156   & 11560 & 2015  & RE1   & 4,5   & 3     & B     &       & S     & 7,1   & N     & B    \\\\\n",
       "\\end{tabular}\n"
      ],
      "text/markdown": [
       "\n",
       "| Stud_ID | Degree_ID | Course_ID | Academic_Year | Course_Section | ECTS | Course_Mod | Mod_Type | COND_ASI | ACTA | Final_Grade | CAL | Course_Type |\n",
       "|---|---|---|---|---|---|---|---|---|---|---|---|---|\n",
       "| 12428 | 156   | 11553 | 2014  | RE1   | 6     | 3     | B     |       | S     | 7,1   | N     | B     |\n",
       "| 12428 | 156   | 11567 | 2014  | RE1   | 4,5   | 3     | G     |       | S     | 8,1   | N     | O     |\n",
       "| 12428 | 156   | 11572 | 2014  | RE1   | 4,5   | 4     | G     |       | S     | 8     | N     | O     |\n",
       "| 12428 | 156   | 11568 | 2014  | RE1   | 4,5   | 3     | G     |       | S     | 7,8   | N     | O     |\n",
       "| 12428 | 156   | 11660 | 2015  | TFG   | 12    | 4     | B     |       | -     | 7,5   | N     | G     |\n",
       "| 12428 | 156   | 11560 | 2015  | RE1   | 4,5   | 3     | B     |       | S     | 7,1   | N     | B     |\n",
       "\n"
      ],
      "text/plain": [
       "  Stud_ID Degree_ID Course_ID Academic_Year Course_Section ECTS Course_Mod\n",
       "1 12428   156       11553     2014          RE1            6    3         \n",
       "2 12428   156       11567     2014          RE1            4,5  3         \n",
       "3 12428   156       11572     2014          RE1            4,5  4         \n",
       "4 12428   156       11568     2014          RE1            4,5  3         \n",
       "5 12428   156       11660     2015          TFG            12   4         \n",
       "6 12428   156       11560     2015          RE1            4,5  3         \n",
       "  Mod_Type COND_ASI ACTA Final_Grade CAL Course_Type\n",
       "1 B                 S    7,1         N   B          \n",
       "2 G                 S    8,1         N   O          \n",
       "3 G                 S    8           N   O          \n",
       "4 G                 S    7,8         N   O          \n",
       "5 B                 -    7,5         N   G          \n",
       "6 B                 S    7,1         N   B          "
      ]
     },
     "metadata": {},
     "output_type": "display_data"
    }
   ],
   "source": [
    "# See the data\n",
    "head(enrolments_df_clean)\n",
    "head(courses_df_clean)"
   ]
  },
  {
   "cell_type": "code",
   "execution_count": 178,
   "id": "73ea6d44",
   "metadata": {},
   "outputs": [
    {
     "data": {
      "text/html": [
       "<table>\n",
       "<thead><tr><th scope=col>Stud_ID</th><th scope=col>Degree_ID.x</th><th scope=col>Start_Year</th><th scope=col>Enrolment_Type</th><th scope=col>Admission_Grade</th><th scope=col>ING_CONV</th><th scope=col>Prev_Studies</th><th scope=col>Entry_Type</th><th scope=col>Course_Title</th><th scope=col>Start_Age</th><th scope=col>...</th><th scope=col>Academic_Year</th><th scope=col>Course_Section</th><th scope=col>ECTS</th><th scope=col>Course_Mod</th><th scope=col>Mod_Type</th><th scope=col>COND_ASI</th><th scope=col>ACTA</th><th scope=col>Final_Grade</th><th scope=col>CAL</th><th scope=col>Course_Type</th></tr></thead>\n",
       "<tbody>\n",
       "\t<tr><td>43654</td><td>156  </td><td>2010 </td><td>NAP  </td><td>7,3  </td><td>J    </td><td>4    </td><td>T    </td><td>2015 </td><td>35   </td><td>...  </td><td>2011 </td><td>2B1  </td><td>6    </td><td>2    </td><td>B    </td><td>     </td><td>S    </td><td>8,4  </td><td>N    </td><td>B    </td></tr>\n",
       "\t<tr><td>43654</td><td>156  </td><td>2010 </td><td>NAP  </td><td>7,3  </td><td>J    </td><td>4    </td><td>T    </td><td>2015 </td><td>35   </td><td>...  </td><td>2013 </td><td>3D1  </td><td>6    </td><td>3    </td><td>B    </td><td>     </td><td>S    </td><td>     </td><td>Z    </td><td>B    </td></tr>\n",
       "\t<tr><td>43654</td><td>156  </td><td>2010 </td><td>NAP  </td><td>7,3  </td><td>J    </td><td>4    </td><td>T    </td><td>2015 </td><td>35   </td><td>...  </td><td>2012 </td><td>2B1  </td><td>4,5  </td><td>2    </td><td>B    </td><td>     </td><td>S    </td><td>5,6  </td><td>A    </td><td>B    </td></tr>\n",
       "\t<tr><td>43654</td><td>156  </td><td>2010 </td><td>NAP  </td><td>7,3  </td><td>J    </td><td>4    </td><td>T    </td><td>2015 </td><td>35   </td><td>...  </td><td>2012 </td><td>331  </td><td>4,5  </td><td>3    </td><td>G    </td><td>     </td><td>S    </td><td>9,3  </td><td>E    </td><td>O    </td></tr>\n",
       "\t<tr><td>43654</td><td>156  </td><td>2010 </td><td>NAP  </td><td>7,3  </td><td>J    </td><td>4    </td><td>T    </td><td>2015 </td><td>35   </td><td>...  </td><td>2012 </td><td>OA2  </td><td>4,5  </td><td>2    </td><td>G    </td><td>     </td><td>S    </td><td>7,3  </td><td>N    </td><td>O    </td></tr>\n",
       "\t<tr><td>43654</td><td>156  </td><td>2010 </td><td>NAP  </td><td>7,3  </td><td>J    </td><td>4    </td><td>T    </td><td>2015 </td><td>35   </td><td>...  </td><td>2014 </td><td>4IS  </td><td>4,5  </td><td>4    </td><td>G    </td><td>     </td><td>S    </td><td>9,3  </td><td>E    </td><td>O    </td></tr>\n",
       "</tbody>\n",
       "</table>\n"
      ],
      "text/latex": [
       "\\begin{tabular}{r|lllllllllllllllllllllllllll}\n",
       " Stud\\_ID & Degree\\_ID.x & Start\\_Year & Enrolment\\_Type & Admission\\_Grade & ING\\_CONV & Prev\\_Studies & Entry\\_Type & Course\\_Title & Start\\_Age & ... & Academic\\_Year & Course\\_Section & ECTS & Course\\_Mod & Mod\\_Type & COND\\_ASI & ACTA & Final\\_Grade & CAL & Course\\_Type\\\\\n",
       "\\hline\n",
       "\t 43654 & 156   & 2010  & NAP   & 7,3   & J     & 4     & T     & 2015  & 35    & ...   & 2011  & 2B1   & 6     & 2     & B     &       & S     & 8,4   & N     & B    \\\\\n",
       "\t 43654 & 156   & 2010  & NAP   & 7,3   & J     & 4     & T     & 2015  & 35    & ...   & 2013  & 3D1   & 6     & 3     & B     &       & S     &       & Z     & B    \\\\\n",
       "\t 43654 & 156   & 2010  & NAP   & 7,3   & J     & 4     & T     & 2015  & 35    & ...   & 2012  & 2B1   & 4,5   & 2     & B     &       & S     & 5,6   & A     & B    \\\\\n",
       "\t 43654 & 156   & 2010  & NAP   & 7,3   & J     & 4     & T     & 2015  & 35    & ...   & 2012  & 331   & 4,5   & 3     & G     &       & S     & 9,3   & E     & O    \\\\\n",
       "\t 43654 & 156   & 2010  & NAP   & 7,3   & J     & 4     & T     & 2015  & 35    & ...   & 2012  & OA2   & 4,5   & 2     & G     &       & S     & 7,3   & N     & O    \\\\\n",
       "\t 43654 & 156   & 2010  & NAP   & 7,3   & J     & 4     & T     & 2015  & 35    & ...   & 2014  & 4IS   & 4,5   & 4     & G     &       & S     & 9,3   & E     & O    \\\\\n",
       "\\end{tabular}\n"
      ],
      "text/markdown": [
       "\n",
       "| Stud_ID | Degree_ID.x | Start_Year | Enrolment_Type | Admission_Grade | ING_CONV | Prev_Studies | Entry_Type | Course_Title | Start_Age | ... | Academic_Year | Course_Section | ECTS | Course_Mod | Mod_Type | COND_ASI | ACTA | Final_Grade | CAL | Course_Type |\n",
       "|---|---|---|---|---|---|---|---|---|---|---|---|---|---|---|---|---|---|---|---|---|\n",
       "| 43654 | 156   | 2010  | NAP   | 7,3   | J     | 4     | T     | 2015  | 35    | ...   | 2011  | 2B1   | 6     | 2     | B     |       | S     | 8,4   | N     | B     |\n",
       "| 43654 | 156   | 2010  | NAP   | 7,3   | J     | 4     | T     | 2015  | 35    | ...   | 2013  | 3D1   | 6     | 3     | B     |       | S     |       | Z     | B     |\n",
       "| 43654 | 156   | 2010  | NAP   | 7,3   | J     | 4     | T     | 2015  | 35    | ...   | 2012  | 2B1   | 4,5   | 2     | B     |       | S     | 5,6   | A     | B     |\n",
       "| 43654 | 156   | 2010  | NAP   | 7,3   | J     | 4     | T     | 2015  | 35    | ...   | 2012  | 331   | 4,5   | 3     | G     |       | S     | 9,3   | E     | O     |\n",
       "| 43654 | 156   | 2010  | NAP   | 7,3   | J     | 4     | T     | 2015  | 35    | ...   | 2012  | OA2   | 4,5   | 2     | G     |       | S     | 7,3   | N     | O     |\n",
       "| 43654 | 156   | 2010  | NAP   | 7,3   | J     | 4     | T     | 2015  | 35    | ...   | 2014  | 4IS   | 4,5   | 4     | G     |       | S     | 9,3   | E     | O     |\n",
       "\n"
      ],
      "text/plain": [
       "  Stud_ID Degree_ID.x Start_Year Enrolment_Type Admission_Grade ING_CONV\n",
       "1 43654   156         2010       NAP            7,3             J       \n",
       "2 43654   156         2010       NAP            7,3             J       \n",
       "3 43654   156         2010       NAP            7,3             J       \n",
       "4 43654   156         2010       NAP            7,3             J       \n",
       "5 43654   156         2010       NAP            7,3             J       \n",
       "6 43654   156         2010       NAP            7,3             J       \n",
       "  Prev_Studies Entry_Type Course_Title Start_Age ... Academic_Year\n",
       "1 4            T          2015         35        ... 2011         \n",
       "2 4            T          2015         35        ... 2013         \n",
       "3 4            T          2015         35        ... 2012         \n",
       "4 4            T          2015         35        ... 2012         \n",
       "5 4            T          2015         35        ... 2012         \n",
       "6 4            T          2015         35        ... 2014         \n",
       "  Course_Section ECTS Course_Mod Mod_Type COND_ASI ACTA Final_Grade CAL\n",
       "1 2B1            6    2          B                 S    8,4         N  \n",
       "2 3D1            6    3          B                 S                Z  \n",
       "3 2B1            4,5  2          B                 S    5,6         A  \n",
       "4 331            4,5  3          G                 S    9,3         E  \n",
       "5 OA2            4,5  2          G                 S    7,3         N  \n",
       "6 4IS            4,5  4          G                 S    9,3         E  \n",
       "  Course_Type\n",
       "1 B          \n",
       "2 B          \n",
       "3 B          \n",
       "4 O          \n",
       "5 O          \n",
       "6 O          "
      ]
     },
     "metadata": {},
     "output_type": "display_data"
    }
   ],
   "source": [
    "# merge two data frames by Stud_ID\n",
    "enrolments_courses_df <- merge(enrolments_df_clean, courses_df_clean,by=\"Stud_ID\")\n",
    "head(enrolments_courses_df)"
   ]
  },
  {
   "cell_type": "code",
   "execution_count": 186,
   "id": "b68a37f7",
   "metadata": {},
   "outputs": [
    {
     "name": "stdout",
     "output_type": "stream",
     "text": [
      "[1] \"We have data about this manny students\"\n"
     ]
    },
    {
     "data": {
      "text/html": [
       "2047"
      ],
      "text/latex": [
       "2047"
      ],
      "text/markdown": [
       "2047"
      ],
      "text/plain": [
       "[1] 2047"
      ]
     },
     "metadata": {},
     "output_type": "display_data"
    },
    {
     "name": "stdout",
     "output_type": "stream",
     "text": [
      "[1] \"We have data about this many differnet courses\"\n"
     ]
    },
    {
     "data": {
      "text/html": [
       "161320"
      ],
      "text/latex": [
       "161320"
      ],
      "text/markdown": [
       "161320"
      ],
      "text/plain": [
       "[1] 161320"
      ]
     },
     "metadata": {},
     "output_type": "display_data"
    },
    {
     "name": "stdout",
     "output_type": "stream",
     "text": [
      "[1] \"If we take our left students and courses we will have this many information\"\n"
     ]
    },
    {
     "data": {
      "text/html": [
       "80757"
      ],
      "text/latex": [
       "80757"
      ],
      "text/markdown": [
       "80757"
      ],
      "text/plain": [
       "[1] 80757"
      ]
     },
     "metadata": {},
     "output_type": "display_data"
    },
    {
     "name": "stdout",
     "output_type": "stream",
     "text": [
      "[1] \"As it can be seen, we (lets say dropped) 80k rows of temporary unnecesary data. \\nI dont say it is perfect, I think it could be imporved by reversing what we dropped with NA\"\n"
     ]
    }
   ],
   "source": [
    "print(\"We have data about this manny students\")\n",
    "nrow(enrolments_df_clean)\n",
    "\n",
    "print(\"We have data about this many differnet courses\")\n",
    "nrow(courses_df_clean)\n",
    "\n",
    "print(\"If we take our left students and courses we will have this many information\")\n",
    "nrow(enrolments_courses_df)\n",
    "\n",
    "print(\"As it can be seen, we (lets say dropped) 80k rows of temporary unnecesary data. \n",
    "I dont say it is perfect, I think it could be imporved by reversing what we dropped with NA\")"
   ]
  },
  {
   "cell_type": "markdown",
   "id": "17917046",
   "metadata": {},
   "source": [
    "### And add years"
   ]
  },
  {
   "cell_type": "code",
   "execution_count": 187,
   "id": "3e16aa99",
   "metadata": {},
   "outputs": [
    {
     "data": {
      "text/html": [
       "<table>\n",
       "<thead><tr><th scope=col>Stud_ID</th><th scope=col>Degree_ID.x</th><th scope=col>Start_Year</th><th scope=col>Enrolment_Type</th><th scope=col>Admission_Grade</th><th scope=col>ING_CONV</th><th scope=col>Prev_Studies</th><th scope=col>Entry_Type</th><th scope=col>Course_Title</th><th scope=col>Start_Age</th><th scope=col>...</th><th scope=col>Stud_Scholarship</th><th scope=col>Is_Reg_Open</th><th scope=col>Credits_Total</th><th scope=col>Credits_Passed_Total</th><th scope=col>Credits_Failed_Total</th><th scope=col>Credits_No_Show_Total</th><th scope=col>Credits_Normal_Reg_Total</th><th scope=col>Credits_Passed_Normal</th><th scope=col>Credits_Failed_Normal</th><th scope=col>Credits_No_Show_Normal</th></tr></thead>\n",
       "<tbody>\n",
       "\t<tr><td>43654</td><td>156  </td><td>2010 </td><td>NAP  </td><td>7,3  </td><td>J    </td><td>4    </td><td>T    </td><td>2015 </td><td>35   </td><td>...  </td><td>-    </td><td>     </td><td>45   </td><td>25,5 </td><td>4,5  </td><td>15   </td><td>45   </td><td>25,5 </td><td>4,5  </td><td>15   </td></tr>\n",
       "\t<tr><td>43654</td><td>156  </td><td>2010 </td><td>NAP  </td><td>7,3  </td><td>J    </td><td>4    </td><td>T    </td><td>2015 </td><td>35   </td><td>...  </td><td>N    </td><td>     </td><td>60   </td><td>54   </td><td>0    </td><td>6    </td><td>60   </td><td>54   </td><td>0    </td><td>6    </td></tr>\n",
       "\t<tr><td>43654</td><td>156  </td><td>2010 </td><td>NAP  </td><td>7,3  </td><td>J    </td><td>4    </td><td>T    </td><td>2015 </td><td>35   </td><td>...  </td><td>S    </td><td>     </td><td>57   </td><td>57   </td><td>0    </td><td>0    </td><td>57   </td><td>57   </td><td>0    </td><td>0    </td></tr>\n",
       "\t<tr><td>43654</td><td>156  </td><td>2010 </td><td>NAP  </td><td>7,3  </td><td>J    </td><td>4    </td><td>T    </td><td>2015 </td><td>35   </td><td>...  </td><td>-    </td><td>     </td><td>60   </td><td>54   </td><td>0    </td><td>6    </td><td>60   </td><td>54   </td><td>0    </td><td>6    </td></tr>\n",
       "\t<tr><td>43654</td><td>156  </td><td>2010 </td><td>NAP  </td><td>7,3  </td><td>J    </td><td>4    </td><td>T    </td><td>2015 </td><td>35   </td><td>...  </td><td>-    </td><td>     </td><td>24   </td><td>24   </td><td>0    </td><td>0    </td><td>24   </td><td>24   </td><td>0    </td><td>0    </td></tr>\n",
       "\t<tr><td>43654</td><td>156  </td><td>2010 </td><td>NAP  </td><td>7,3  </td><td>J    </td><td>4    </td><td>T    </td><td>2015 </td><td>35   </td><td>...  </td><td>-    </td><td>     </td><td>12   </td><td>12   </td><td>0    </td><td>0    </td><td>12   </td><td>12   </td><td>0    </td><td>0    </td></tr>\n",
       "</tbody>\n",
       "</table>\n"
      ],
      "text/latex": [
       "\\begin{tabular}{r|llllllllllllllllllllllllllllllllllllllll}\n",
       " Stud\\_ID & Degree\\_ID.x & Start\\_Year & Enrolment\\_Type & Admission\\_Grade & ING\\_CONV & Prev\\_Studies & Entry\\_Type & Course\\_Title & Start\\_Age & ... & Stud\\_Scholarship & Is\\_Reg\\_Open & Credits\\_Total & Credits\\_Passed\\_Total & Credits\\_Failed\\_Total & Credits\\_No\\_Show\\_Total & Credits\\_Normal\\_Reg\\_Total & Credits\\_Passed\\_Normal & Credits\\_Failed\\_Normal & Credits\\_No\\_Show\\_Normal\\\\\n",
       "\\hline\n",
       "\t 43654 & 156   & 2010  & NAP   & 7,3   & J     & 4     & T     & 2015  & 35    & ...   & -     &       & 45    & 25,5  & 4,5   & 15    & 45    & 25,5  & 4,5   & 15   \\\\\n",
       "\t 43654 & 156   & 2010  & NAP   & 7,3   & J     & 4     & T     & 2015  & 35    & ...   & N     &       & 60    & 54    & 0     & 6     & 60    & 54    & 0     & 6    \\\\\n",
       "\t 43654 & 156   & 2010  & NAP   & 7,3   & J     & 4     & T     & 2015  & 35    & ...   & S     &       & 57    & 57    & 0     & 0     & 57    & 57    & 0     & 0    \\\\\n",
       "\t 43654 & 156   & 2010  & NAP   & 7,3   & J     & 4     & T     & 2015  & 35    & ...   & -     &       & 60    & 54    & 0     & 6     & 60    & 54    & 0     & 6    \\\\\n",
       "\t 43654 & 156   & 2010  & NAP   & 7,3   & J     & 4     & T     & 2015  & 35    & ...   & -     &       & 24    & 24    & 0     & 0     & 24    & 24    & 0     & 0    \\\\\n",
       "\t 43654 & 156   & 2010  & NAP   & 7,3   & J     & 4     & T     & 2015  & 35    & ...   & -     &       & 12    & 12    & 0     & 0     & 12    & 12    & 0     & 0    \\\\\n",
       "\\end{tabular}\n"
      ],
      "text/markdown": [
       "\n",
       "| Stud_ID | Degree_ID.x | Start_Year | Enrolment_Type | Admission_Grade | ING_CONV | Prev_Studies | Entry_Type | Course_Title | Start_Age | ... | Stud_Scholarship | Is_Reg_Open | Credits_Total | Credits_Passed_Total | Credits_Failed_Total | Credits_No_Show_Total | Credits_Normal_Reg_Total | Credits_Passed_Normal | Credits_Failed_Normal | Credits_No_Show_Normal |\n",
       "|---|---|---|---|---|---|---|---|---|---|---|---|---|---|---|---|---|---|---|---|---|\n",
       "| 43654 | 156   | 2010  | NAP   | 7,3   | J     | 4     | T     | 2015  | 35    | ...   | -     |       | 45    | 25,5  | 4,5   | 15    | 45    | 25,5  | 4,5   | 15    |\n",
       "| 43654 | 156   | 2010  | NAP   | 7,3   | J     | 4     | T     | 2015  | 35    | ...   | N     |       | 60    | 54    | 0     | 6     | 60    | 54    | 0     | 6     |\n",
       "| 43654 | 156   | 2010  | NAP   | 7,3   | J     | 4     | T     | 2015  | 35    | ...   | S     |       | 57    | 57    | 0     | 0     | 57    | 57    | 0     | 0     |\n",
       "| 43654 | 156   | 2010  | NAP   | 7,3   | J     | 4     | T     | 2015  | 35    | ...   | -     |       | 60    | 54    | 0     | 6     | 60    | 54    | 0     | 6     |\n",
       "| 43654 | 156   | 2010  | NAP   | 7,3   | J     | 4     | T     | 2015  | 35    | ...   | -     |       | 24    | 24    | 0     | 0     | 24    | 24    | 0     | 0     |\n",
       "| 43654 | 156   | 2010  | NAP   | 7,3   | J     | 4     | T     | 2015  | 35    | ...   | -     |       | 12    | 12    | 0     | 0     | 12    | 12    | 0     | 0     |\n",
       "\n"
      ],
      "text/plain": [
       "  Stud_ID Degree_ID.x Start_Year Enrolment_Type Admission_Grade ING_CONV\n",
       "1 43654   156         2010       NAP            7,3             J       \n",
       "2 43654   156         2010       NAP            7,3             J       \n",
       "3 43654   156         2010       NAP            7,3             J       \n",
       "4 43654   156         2010       NAP            7,3             J       \n",
       "5 43654   156         2010       NAP            7,3             J       \n",
       "6 43654   156         2010       NAP            7,3             J       \n",
       "  Prev_Studies Entry_Type Course_Title Start_Age ... Stud_Scholarship\n",
       "1 4            T          2015         35        ... -               \n",
       "2 4            T          2015         35        ... N               \n",
       "3 4            T          2015         35        ... S               \n",
       "4 4            T          2015         35        ... -               \n",
       "5 4            T          2015         35        ... -               \n",
       "6 4            T          2015         35        ... -               \n",
       "  Is_Reg_Open Credits_Total Credits_Passed_Total Credits_Failed_Total\n",
       "1             45            25,5                 4,5                 \n",
       "2             60            54                   0                   \n",
       "3             57            57                   0                   \n",
       "4             60            54                   0                   \n",
       "5             24            24                   0                   \n",
       "6             12            12                   0                   \n",
       "  Credits_No_Show_Total Credits_Normal_Reg_Total Credits_Passed_Normal\n",
       "1 15                    45                       25,5                 \n",
       "2 6                     60                       54                   \n",
       "3 0                     57                       57                   \n",
       "4 6                     60                       54                   \n",
       "5 0                     24                       24                   \n",
       "6 0                     12                       12                   \n",
       "  Credits_Failed_Normal Credits_No_Show_Normal\n",
       "1 4,5                   15                    \n",
       "2 0                     6                     \n",
       "3 0                     0                     \n",
       "4 0                     6                     \n",
       "5 0                     0                     \n",
       "6 0                     0                     "
      ]
     },
     "metadata": {},
     "output_type": "display_data"
    }
   ],
   "source": [
    "full_df <- merge(enrolments_courses_df, years_df_clean, by=\"Stud_ID\")\n",
    "head(full_df)"
   ]
  },
  {
   "cell_type": "markdown",
   "id": "3f1b0e71",
   "metadata": {},
   "source": [
    "    So it happened, we merged all the tables into one, big table with all the informations that we have. Now we can make some nice analysis (i think)."
   ]
  },
  {
   "cell_type": "code",
   "execution_count": null,
   "id": "ac323e0a",
   "metadata": {},
   "outputs": [],
   "source": []
  },
  {
   "cell_type": "markdown",
   "id": "7a28f70a",
   "metadata": {},
   "source": [
    "# THATS ALL WHAT IS OFFICAL, EVERYTHING BELOW IS MY TRIALAS"
   ]
  },
  {
   "cell_type": "code",
   "execution_count": null,
   "id": "bc8afdcc",
   "metadata": {},
   "outputs": [],
   "source": []
  },
  {
   "cell_type": "code",
   "execution_count": null,
   "id": "d384e7e9",
   "metadata": {},
   "outputs": [],
   "source": []
  },
  {
   "cell_type": "code",
   "execution_count": null,
   "id": "0b3b13b6",
   "metadata": {},
   "outputs": [],
   "source": []
  },
  {
   "cell_type": "code",
   "execution_count": null,
   "id": "75377555",
   "metadata": {},
   "outputs": [],
   "source": []
  },
  {
   "cell_type": "code",
   "execution_count": null,
   "id": "18ddd6c7",
   "metadata": {},
   "outputs": [],
   "source": []
  },
  {
   "cell_type": "markdown",
   "id": "054f17fe",
   "metadata": {},
   "source": [
    "______________________________________________________\n",
    "# Clustering of the students"
   ]
  },
  {
   "cell_type": "code",
   "execution_count": 168,
   "id": "a130d101",
   "metadata": {},
   "outputs": [
    {
     "ename": "ERROR",
     "evalue": "Error in parse(text = x, srcfile = src): <text>:8:0: unexpected end of input\n6: cluster_data <- \n7: \n  ^\n",
     "output_type": "error",
     "traceback": [
      "Error in parse(text = x, srcfile = src): <text>:8:0: unexpected end of input\n6: cluster_data <- \n7: \n  ^\nTraceback:\n"
     ]
    }
   ],
   "source": [
    "# loading the cluster package\n",
    "library(cluster)\n",
    "head(enrolments_df_clean)\n",
    "\n",
    "# Select one degree - try to claster this for students according to different features of different courses.\n",
    "cluster_data <- \n"
   ]
  },
  {
   "cell_type": "code",
   "execution_count": 62,
   "id": "2a3f4bdd",
   "metadata": {},
   "outputs": [
    {
     "name": "stderr",
     "output_type": "stream",
     "text": [
      "Warning message in storage.mode(x) <- \"double\":\n",
      "\"pojawiły się wartości NA na skutek przekształcenia\""
     ]
    },
    {
     "ename": "ERROR",
     "evalue": "Error in do_one(nmeth): wartość NA/NaN/Inf w wywołaniu obcej funcji (argument 1)\n",
     "output_type": "error",
     "traceback": [
      "Error in do_one(nmeth): wartość NA/NaN/Inf w wywołaniu obcej funcji (argument 1)\nTraceback:\n",
      "1. kmeans(enrolments_df_clean, centers = 3, nstart = 25)",
      "2. do_one(nmeth)"
     ]
    }
   ],
   "source": [
    "# porównam poziom wykształcenia rodziców vs wiek rozpoczęcia studiów\n",
    "# porównam poziom wykształcenia rodziców vs admission_grade\n",
    "\n"
   ]
  },
  {
   "cell_type": "code",
   "execution_count": 63,
   "id": "f259b4a2",
   "metadata": {},
   "outputs": [
    {
     "data": {
      "text/plain": [
       "    Stud_ID         Degree_ID       Start_Year   Enrolment_Type Admission_Grade\n",
       " Min.   : 43654   Min.   :156.0   Min.   :2010   NAP    :1958   6      :   8   \n",
       " 1st Qu.:479185   1st Qu.:156.0   1st Qu.:2011   NLE    :  52   7,5    :   8   \n",
       " Median :515393   Median :156.0   Median :2013   NSC    :  15   8      :   8   \n",
       " Mean   :513712   Mean   :156.8   Mean   :2013   NRO    :  10   6,7    :   7   \n",
       " 3rd Qu.:552335   3rd Qu.:158.0   3rd Qu.:2015   NSA    :   4   7      :   6   \n",
       " Max.   :619168   Max.   :182.0   Max.   :2018   NTE    :   4   10     :   5   \n",
       "                                                 (Other):   4   (Other):2005   \n",
       " ING_CONV  Prev_Studies      Entry_Type    Course_Title    Start_Age    \n",
       "  :   0   Min.   : 4.000   G      :2017   Min.   :2013   Min.   :17.00  \n",
       " J:2035   1st Qu.:10.000   M      :  14   1st Qu.:2015   1st Qu.:18.00  \n",
       " S:  12   Median :10.000   T      :  10   Median :2017   Median :18.00  \n",
       "          Mean   : 9.275   D      :   3   Mean   :2017   Mean   :18.75  \n",
       "          3rd Qu.:10.000   N      :   3   3rd Qu.:2019   3rd Qu.:19.00  \n",
       "          Max.   :13.000          :   0   Max.   :2020   Max.   :54.00  \n",
       "                           (Other):   0                                 \n",
       " Sex      Father_Edu_Lev  Mother_Edu_Lev  CRE_RECON_INI      Numpre      \n",
       "  :   0   Min.   :1.000   Min.   :1.000   60     :1273   Min.   : 1.000  \n",
       " M: 481   1st Qu.:3.000   1st Qu.:3.000   48     : 132   1st Qu.: 1.000  \n",
       " V:1566   Median :4.000   Median :4.000   42     : 118   Median : 1.000  \n",
       "          Mean   :4.005   Mean   :4.022   54     : 106   Mean   : 1.325  \n",
       "          3rd Qu.:5.000   3rd Qu.:5.000   36     :  89   3rd Qu.: 1.000  \n",
       "          Max.   :6.000   Max.   :6.000   30     :  56   Max.   :10.000  \n",
       "                                          (Other): 273                   "
      ]
     },
     "metadata": {},
     "output_type": "display_data"
    }
   ],
   "source": [
    "summary(enrolments_df_clean)"
   ]
  },
  {
   "cell_type": "code",
   "execution_count": 64,
   "id": "00a272a2",
   "metadata": {},
   "outputs": [
    {
     "ename": "ERROR",
     "evalue": "Error in library(VIM): there is no package called 'VIM'\n",
     "output_type": "error",
     "traceback": [
      "Error in library(VIM): there is no package called 'VIM'\nTraceback:\n",
      "1. library(VIM)"
     ]
    }
   ],
   "source": [
    "# VIM library for using 'aggr'\n",
    "library(VIM)\n",
    "\n",
    "# 'aggr' plots the amount of missing/imputed values in each column\n",
    "aggr(enrolments_df_clean)"
   ]
  },
  {
   "cell_type": "code",
   "execution_count": 90,
   "id": "8c0d1b2c",
   "metadata": {},
   "outputs": [],
   "source": [
    "clustering_df <- select(enrolments_df_clean, Admission_Grade, Father_Edu_Lev, Mother_Edu_Lev)"
   ]
  },
  {
   "cell_type": "code",
   "execution_count": 92,
   "id": "9fbcc453",
   "metadata": {},
   "outputs": [
    {
     "data": {
      "text/html": [
       "<table>\n",
       "<thead><tr><th></th><th scope=col>Admission_Grade</th><th scope=col>Father_Edu_Lev</th><th scope=col>Mother_Edu_Lev</th></tr></thead>\n",
       "<tbody>\n",
       "\t<tr><th scope=row>4</th><td>6,833 </td><td>5     </td><td>4     </td></tr>\n",
       "\t<tr><th scope=row>7</th><td>6,1   </td><td>4     </td><td>3     </td></tr>\n",
       "\t<tr><th scope=row>9</th><td>9,618 </td><td>3     </td><td>3     </td></tr>\n",
       "\t<tr><th scope=row>11</th><td>10,02 </td><td>3     </td><td>5     </td></tr>\n",
       "\t<tr><th scope=row>14</th><td>10,25 </td><td>5     </td><td>5     </td></tr>\n",
       "\t<tr><th scope=row>15</th><td>10,056</td><td>5     </td><td>5     </td></tr>\n",
       "</tbody>\n",
       "</table>\n"
      ],
      "text/latex": [
       "\\begin{tabular}{r|lll}\n",
       "  & Admission\\_Grade & Father\\_Edu\\_Lev & Mother\\_Edu\\_Lev\\\\\n",
       "\\hline\n",
       "\t4 & 6,833  & 5      & 4     \\\\\n",
       "\t7 & 6,1    & 4      & 3     \\\\\n",
       "\t9 & 9,618  & 3      & 3     \\\\\n",
       "\t11 & 10,02  & 3      & 5     \\\\\n",
       "\t14 & 10,25  & 5      & 5     \\\\\n",
       "\t15 & 10,056 & 5      & 5     \\\\\n",
       "\\end{tabular}\n"
      ],
      "text/markdown": [
       "\n",
       "| <!--/--> | Admission_Grade | Father_Edu_Lev | Mother_Edu_Lev |\n",
       "|---|---|---|---|\n",
       "| 4 | 6,833  | 5      | 4      |\n",
       "| 7 | 6,1    | 4      | 3      |\n",
       "| 9 | 9,618  | 3      | 3      |\n",
       "| 11 | 10,02  | 3      | 5      |\n",
       "| 14 | 10,25  | 5      | 5      |\n",
       "| 15 | 10,056 | 5      | 5      |\n",
       "\n"
      ],
      "text/plain": [
       "   Admission_Grade Father_Edu_Lev Mother_Edu_Lev\n",
       "4  6,833           5              4             \n",
       "7  6,1             4              3             \n",
       "9  9,618           3              3             \n",
       "11 10,02           3              5             \n",
       "14 10,25           5              5             \n",
       "15 10,056          5              5             "
      ]
     },
     "metadata": {},
     "output_type": "display_data"
    }
   ],
   "source": [
    "head(clustering_df)"
   ]
  },
  {
   "cell_type": "code",
   "execution_count": 100,
   "id": "b8116e33",
   "metadata": {},
   "outputs": [],
   "source": [
    "clusters <- kmeans(clustering_df[2:3], 4, nstart = 25)\n"
   ]
  },
  {
   "cell_type": "code",
   "execution_count": 101,
   "id": "e9f8be9e",
   "metadata": {},
   "outputs": [
    {
     "name": "stdout",
     "output_type": "stream",
     "text": [
      "List of 9\n",
      " $ cluster     : Named int [1:2047] 4 4 3 1 2 2 4 4 3 4 ...\n",
      "  ..- attr(*, \"names\")= chr [1:2047] \"4\" \"7\" \"9\" \"11\" ...\n",
      " $ centers     : num [1:4, 1:2] 2.95 4.75 2.92 4.31 4.29 ...\n",
      "  ..- attr(*, \"dimnames\")=List of 2\n",
      "  .. ..$ : chr [1:4] \"1\" \"2\" \"3\" \"4\"\n",
      "  .. ..$ : chr [1:2] \"Father_Edu_Lev\" \"Mother_Edu_Lev\"\n",
      " $ totss       : num 3020\n",
      " $ withinss    : num [1:4] 63.5 133.3 79.5 324.5\n",
      " $ tot.withinss: num 601\n",
      " $ betweenss   : num 2419\n",
      " $ size        : int [1:4] 255 653 402 737\n",
      " $ iter        : int 2\n",
      " $ ifault      : int 0\n",
      " - attr(*, \"class\")= chr \"kmeans\"\n"
     ]
    }
   ],
   "source": [
    "str(clusters)"
   ]
  },
  {
   "cell_type": "code",
   "execution_count": 102,
   "id": "de4026b6",
   "metadata": {},
   "outputs": [
    {
     "data": {
      "text/html": [
       "<table>\n",
       "<thead><tr><th></th><th scope=col>Admission_Grade</th><th scope=col>Father_Edu_Lev</th><th scope=col>Mother_Edu_Lev</th><th scope=col>cluster</th></tr></thead>\n",
       "<tbody>\n",
       "\t<tr><th scope=row>4</th><td>6,833 </td><td>5     </td><td>4     </td><td>4     </td></tr>\n",
       "\t<tr><th scope=row>7</th><td>6,1   </td><td>4     </td><td>3     </td><td>4     </td></tr>\n",
       "\t<tr><th scope=row>9</th><td>9,618 </td><td>3     </td><td>3     </td><td>3     </td></tr>\n",
       "\t<tr><th scope=row>11</th><td>10,02 </td><td>3     </td><td>5     </td><td>1     </td></tr>\n",
       "\t<tr><th scope=row>14</th><td>10,25 </td><td>5     </td><td>5     </td><td>2     </td></tr>\n",
       "\t<tr><th scope=row>15</th><td>10,056</td><td>5     </td><td>5     </td><td>2     </td></tr>\n",
       "</tbody>\n",
       "</table>\n"
      ],
      "text/latex": [
       "\\begin{tabular}{r|llll}\n",
       "  & Admission\\_Grade & Father\\_Edu\\_Lev & Mother\\_Edu\\_Lev & cluster\\\\\n",
       "\\hline\n",
       "\t4 & 6,833  & 5      & 4      & 4     \\\\\n",
       "\t7 & 6,1    & 4      & 3      & 4     \\\\\n",
       "\t9 & 9,618  & 3      & 3      & 3     \\\\\n",
       "\t11 & 10,02  & 3      & 5      & 1     \\\\\n",
       "\t14 & 10,25  & 5      & 5      & 2     \\\\\n",
       "\t15 & 10,056 & 5      & 5      & 2     \\\\\n",
       "\\end{tabular}\n"
      ],
      "text/markdown": [
       "\n",
       "| <!--/--> | Admission_Grade | Father_Edu_Lev | Mother_Edu_Lev | cluster |\n",
       "|---|---|---|---|---|\n",
       "| 4 | 6,833  | 5      | 4      | 4      |\n",
       "| 7 | 6,1    | 4      | 3      | 4      |\n",
       "| 9 | 9,618  | 3      | 3      | 3      |\n",
       "| 11 | 10,02  | 3      | 5      | 1      |\n",
       "| 14 | 10,25  | 5      | 5      | 2      |\n",
       "| 15 | 10,056 | 5      | 5      | 2      |\n",
       "\n"
      ],
      "text/plain": [
       "   Admission_Grade Father_Edu_Lev Mother_Edu_Lev cluster\n",
       "4  6,833           5              4              4      \n",
       "7  6,1             4              3              4      \n",
       "9  9,618           3              3              3      \n",
       "11 10,02           3              5              1      \n",
       "14 10,25           5              5              2      \n",
       "15 10,056          5              5              2      "
      ]
     },
     "metadata": {},
     "output_type": "display_data"
    }
   ],
   "source": [
    "library(ggplot2)\n",
    "clustering_df$cluster <- as.character(clusters$cluster)\n",
    "head(clustering_df)"
   ]
  },
  {
   "cell_type": "code",
   "execution_count": 105,
   "id": "25a5b8cc",
   "metadata": {},
   "outputs": [
    {
     "data": {
      "image/png": "[encoded data removed]",
      "text/plain": [
       "plot without title"
      ]
     },
     "metadata": {},
     "output_type": "display_data"
    }
   ],
   "source": [
    "ggplot() +\n",
    "    geom_point(data = clustering_df,\n",
    "              mapping = aes(x = Admission_Grade, y = Father_Edu_Lev,\n",
    "               colour = cluster))"
   ]
  },
  {
   "cell_type": "code",
   "execution_count": 158,
   "id": "ac6c25a7",
   "metadata": {},
   "outputs": [
    {
     "data": {
      "text/html": [
       "<table>\n",
       "<thead><tr><th></th><th scope=col>Stud_ID</th><th scope=col>Admission_Grade</th><th scope=col>CRE_RECON_INI</th><th scope=col>Degree_ID</th><th scope=col>Sex</th><th scope=col>Start_Year</th></tr></thead>\n",
       "<tbody>\n",
       "\t<tr><th scope=row>4</th><td>460803</td><td>6,833 </td><td>60    </td><td>156   </td><td>V     </td><td>2010  </td></tr>\n",
       "\t<tr><th scope=row>7</th><td>460841</td><td>6,1   </td><td>30    </td><td>156   </td><td>M     </td><td>2010  </td></tr>\n",
       "\t<tr><th scope=row>9</th><td>460463</td><td>9,618 </td><td>60    </td><td>158   </td><td>V     </td><td>2010  </td></tr>\n",
       "\t<tr><th scope=row>11</th><td>461003</td><td>10,02 </td><td>60    </td><td>156   </td><td>M     </td><td>2010  </td></tr>\n",
       "\t<tr><th scope=row>14</th><td>331928</td><td>10,25 </td><td>60    </td><td>156   </td><td>V     </td><td>2010  </td></tr>\n",
       "\t<tr><th scope=row>15</th><td>460393</td><td>10,056</td><td>60    </td><td>158   </td><td>M     </td><td>2010  </td></tr>\n",
       "</tbody>\n",
       "</table>\n"
      ],
      "text/latex": [
       "\\begin{tabular}{r|llllll}\n",
       "  & Stud\\_ID & Admission\\_Grade & CRE\\_RECON\\_INI & Degree\\_ID & Sex & Start\\_Year\\\\\n",
       "\\hline\n",
       "\t4 & 460803 & 6,833  & 60     & 156    & V      & 2010  \\\\\n",
       "\t7 & 460841 & 6,1    & 30     & 156    & M      & 2010  \\\\\n",
       "\t9 & 460463 & 9,618  & 60     & 158    & V      & 2010  \\\\\n",
       "\t11 & 461003 & 10,02  & 60     & 156    & M      & 2010  \\\\\n",
       "\t14 & 331928 & 10,25  & 60     & 156    & V      & 2010  \\\\\n",
       "\t15 & 460393 & 10,056 & 60     & 158    & M      & 2010  \\\\\n",
       "\\end{tabular}\n"
      ],
      "text/markdown": [
       "\n",
       "| <!--/--> | Stud_ID | Admission_Grade | CRE_RECON_INI | Degree_ID | Sex | Start_Year |\n",
       "|---|---|---|---|---|---|---|\n",
       "| 4 | 460803 | 6,833  | 60     | 156    | V      | 2010   |\n",
       "| 7 | 460841 | 6,1    | 30     | 156    | M      | 2010   |\n",
       "| 9 | 460463 | 9,618  | 60     | 158    | V      | 2010   |\n",
       "| 11 | 461003 | 10,02  | 60     | 156    | M      | 2010   |\n",
       "| 14 | 331928 | 10,25  | 60     | 156    | V      | 2010   |\n",
       "| 15 | 460393 | 10,056 | 60     | 158    | M      | 2010   |\n",
       "\n"
      ],
      "text/plain": [
       "   Stud_ID Admission_Grade CRE_RECON_INI Degree_ID Sex Start_Year\n",
       "4  460803  6,833           60            156       V   2010      \n",
       "7  460841  6,1             30            156       M   2010      \n",
       "9  460463  9,618           60            158       V   2010      \n",
       "11 461003  10,02           60            156       M   2010      \n",
       "14 331928  10,25           60            156       V   2010      \n",
       "15 460393  10,056          60            158       M   2010      "
      ]
     },
     "metadata": {},
     "output_type": "display_data"
    }
   ],
   "source": [
    "clustering_df_2 <- select(enrolments_df_clean, Stud_ID, Admission_Grade, CRE_RECON_INI, Degree_ID, Sex, Start_Year )\n",
    "head(clustering_df_2)"
   ]
  },
  {
   "cell_type": "code",
   "execution_count": null,
   "id": "6c48259d",
   "metadata": {},
   "outputs": [],
   "source": []
  },
  {
   "cell_type": "code",
   "execution_count": 160,
   "id": "2ebf0bc1",
   "metadata": {},
   "outputs": [
    {
     "data": {
      "image/png": "[encoded data removed]",
      "text/plain": [
       "plot without title"
      ]
     },
     "metadata": {},
     "output_type": "display_data"
    }
   ],
   "source": [
    "ggplot() +\n",
    "    geom_point(data = clustering_df_2,\n",
    "              mapping = aes(x = Start_Year, y = Stud_ID ))"
   ]
  },
  {
   "cell_type": "code",
   "execution_count": 151,
   "id": "c2fb2911",
   "metadata": {},
   "outputs": [
    {
     "name": "stdout",
     "output_type": "stream",
     "text": [
      "'data.frame':\t2047 obs. of  3 variables:\n",
      " $ Stud_ID        : int  460803 460841 460463 461003 331928 460393 460362 460281 460998 460838 ...\n",
      " $ Admission_Grade: Factor w/ 4029 levels \"\",\"10\",\"10,001\",..: 2249 1981 3760 17 181 48 3822 223 2322 3644 ...\n",
      " $ CRE_RECON_INI  : Factor w/ 210 levels \"\",\"0\",\"0,33\",..: 157 116 157 157 157 157 157 157 138 157 ...\n",
      " - attr(*, \"na.action\")= 'omit' Named int  1 2 3 5 6 8 10 12 13 17 ...\n",
      "  ..- attr(*, \"names\")= chr  \"1\" \"2\" \"3\" \"5\" ...\n"
     ]
    }
   ],
   "source": [
    "str(clustering_df_2)"
   ]
  },
  {
   "cell_type": "code",
   "execution_count": null,
   "id": "5b799a90",
   "metadata": {},
   "outputs": [],
   "source": []
  }
 ],
 "metadata": {
  "kernelspec": {
   "display_name": "R",
   "language": "R",
   "name": "ir"
  },
  "language_info": {
   "codemirror_mode": "r",
   "file_extension": ".r",
   "mimetype": "text/x-r-source",
   "name": "R",
   "pygments_lexer": "r",
   "version": "3.6.1"
  }
 },
 "nbformat": 4,
 "nbformat_minor": 5
}

{
 "cells": [
  {
   "cell_type": "markdown",
   "id": "b9cfd211",
   "metadata": {},
   "source": [
    "# Data Analysis of UPV Dataset"
   ]
  },
  {
   "cell_type": "markdown",
   "id": "055e708c",
   "metadata": {},
   "source": [
    "## 1. Introduce environmental variables"
   ]
  },
  {
   "cell_type": "code",
   "execution_count": 3,
   "id": "9ab7125f",
   "metadata": {},
   "outputs": [],
   "source": [
    "# prepare environmental variables for the project\n",
    "WORKING_DIRECTORY <- \"C:\\\\Users\\\\User\\\\Desktop\\\\Studia\\\\ERASMUS\\\\DATA_ANALYSIS\\\\\"\n",
    "\n",
    "DATASET_PATH <- \"resources\\\\\"\n",
    "COURSES <- \"students_courses.csv\"\n",
    "ENROLMENTS <- \"students_enrolment.csv\"\n",
    "YEARS <- \"students_years.csv\"\n",
    "\n",
    "OUTPUT <- \"output\\\\\""
   ]
  },
  {
   "cell_type": "markdown",
   "id": "c1cc606c",
   "metadata": {},
   "source": [
    "## 2. Load the datasets\n",
    "\n",
    "The provided data has been presented in the form of csv file. What is worth noticing - there has been used a \";\" separator insted of \",\" one.\n"
   ]
  },
  {
   "cell_type": "code",
   "execution_count": 4,
   "id": "c08d27cc",
   "metadata": {},
   "outputs": [],
   "source": [
    "# Load the data \n",
    "courses_df <-  read.csv(paste(WORKING_DIRECTORY, DATASET_PATH, COURSES, sep='') ,header=TRUE, sep=';')\n",
    "enrolments_df <- read.csv(paste(WORKING_DIRECTORY, DATASET_PATH, ENROLMENTS, sep='') ,header=TRUE, sep=';')\n",
    "years_df <- read.csv(paste(WORKING_DIRECTORY, DATASET_PATH, YEARS, sep='') ,header=TRUE, sep=';')"
   ]
  },
  {
   "cell_type": "code",
   "execution_count": 7,
   "id": "0415f1a3",
   "metadata": {},
   "outputs": [
    {
     "data": {
      "text/html": [
       "<table>\n",
       "<thead><tr><th scope=col>Stud_ID</th><th scope=col>Degree_ID</th><th scope=col>Start_Year</th><th scope=col>Enrolment_Type</th><th scope=col>Admission_Grade</th><th scope=col>Prev_Studies</th><th scope=col>Entry_Type</th><th scope=col>Start_Age</th><th scope=col>Sex</th><th scope=col>Father_Edu_Lev</th><th scope=col>Mother_Edu_Lev</th><th scope=col>Numpre</th><th scope=col>NA</th><th scope=col>NA</th><th scope=col>NA</th></tr></thead>\n",
       "<tbody>\n",
       "\t<tr><td>439444</td><td>156   </td><td>2010  </td><td>NAI   </td><td>6,1   </td><td>J     </td><td>10    </td><td>G     </td><td>NA    </td><td>19    </td><td>V     </td><td>5     </td><td>5     </td><td>6     </td><td>8     </td></tr>\n",
       "\t<tr><td>466072</td><td>156   </td><td>2010  </td><td>NAP   </td><td>6,02  </td><td>S     </td><td>10    </td><td>G     </td><td>NA    </td><td>25    </td><td>V     </td><td>4     </td><td>4     </td><td>0     </td><td>1     </td></tr>\n",
       "\t<tr><td>354734</td><td>156   </td><td>2010  </td><td>NAP   </td><td>6,9   </td><td>J     </td><td>10    </td><td>G     </td><td>NA    </td><td>22    </td><td>V     </td><td>5     </td><td>5     </td><td>0     </td><td>1     </td></tr>\n",
       "</tbody>\n",
       "</table>\n"
      ],
      "text/latex": [
       "\\begin{tabular}{r|lllllllllllllll}\n",
       " Stud\\_ID & Degree\\_ID & Start\\_Year & Enrolment\\_Type & Admission\\_Grade & Prev\\_Studies & Entry\\_Type & Start\\_Age & Sex & Father\\_Edu\\_Lev & Mother\\_Edu\\_Lev & Numpre & NA & NA & NA\\\\\n",
       "\\hline\n",
       "\t 439444 & 156    & 2010   & NAI    & 6,1    & J      & 10     & G      & NA     & 19     & V      & 5      & 5      & 6      & 8     \\\\\n",
       "\t 466072 & 156    & 2010   & NAP    & 6,02   & S      & 10     & G      & NA     & 25     & V      & 4      & 4      & 0      & 1     \\\\\n",
       "\t 354734 & 156    & 2010   & NAP    & 6,9    & J      & 10     & G      & NA     & 22     & V      & 5      & 5      & 0      & 1     \\\\\n",
       "\\end{tabular}\n"
      ],
      "text/markdown": [
       "\n",
       "| Stud_ID | Degree_ID | Start_Year | Enrolment_Type | Admission_Grade | Prev_Studies | Entry_Type | Start_Age | Sex | Father_Edu_Lev | Mother_Edu_Lev | Numpre | NA | NA | NA |\n",
       "|---|---|---|---|---|---|---|---|---|---|---|---|---|---|---|\n",
       "| 439444 | 156    | 2010   | NAI    | 6,1    | J      | 10     | G      | NA     | 19     | V      | 5      | 5      | 6      | 8      |\n",
       "| 466072 | 156    | 2010   | NAP    | 6,02   | S      | 10     | G      | NA     | 25     | V      | 4      | 4      | 0      | 1      |\n",
       "| 354734 | 156    | 2010   | NAP    | 6,9    | J      | 10     | G      | NA     | 22     | V      | 5      | 5      | 0      | 1      |\n",
       "\n"
      ],
      "text/plain": [
       "  Stud_ID Degree_ID Start_Year Enrolment_Type Admission_Grade Prev_Studies\n",
       "1 439444  156       2010       NAI            6,1             J           \n",
       "2 466072  156       2010       NAP            6,02            S           \n",
       "3 354734  156       2010       NAP            6,9             J           \n",
       "  Entry_Type Start_Age Sex Father_Edu_Lev Mother_Edu_Lev Numpre <NA> <NA> <NA>\n",
       "1 10         G         NA  19             V              5      5    6    8   \n",
       "2 10         G         NA  25             V              4      4    0    1   \n",
       "3 10         G         NA  22             V              5      5    0    1   "
      ]
     },
     "metadata": {},
     "output_type": "display_data"
    },
    {
     "data": {
      "text/html": [
       "<table>\n",
       "<thead><tr><th scope=col>NIP</th><th scope=col>TIT</th><th scope=col>ASI</th><th scope=col>CACA</th><th scope=col>GLM</th><th scope=col>CTOT</th><th scope=col>BLO</th><th scope=col>TPBLO</th><th scope=col>COND_ASI</th><th scope=col>ACTA</th><th scope=col>NOTA</th><th scope=col>CAL</th><th scope=col>TIPCRE</th></tr></thead>\n",
       "<tbody>\n",
       "\t<tr><td>12428</td><td>156  </td><td>11553</td><td>2014 </td><td>RE1  </td><td>6    </td><td>3    </td><td>B    </td><td>     </td><td>S    </td><td>7,1  </td><td>N    </td><td>B    </td></tr>\n",
       "\t<tr><td>12428</td><td>156  </td><td>11567</td><td>2014 </td><td>RE1  </td><td>4,5  </td><td>3    </td><td>G    </td><td>     </td><td>S    </td><td>8,1  </td><td>N    </td><td>O    </td></tr>\n",
       "\t<tr><td>12428</td><td>156  </td><td>11572</td><td>2014 </td><td>RE1  </td><td>4,5  </td><td>4    </td><td>G    </td><td>     </td><td>S    </td><td>8    </td><td>N    </td><td>O    </td></tr>\n",
       "</tbody>\n",
       "</table>\n"
      ],
      "text/latex": [
       "\\begin{tabular}{r|lllllllllllll}\n",
       " NIP & TIT & ASI & CACA & GLM & CTOT & BLO & TPBLO & COND\\_ASI & ACTA & NOTA & CAL & TIPCRE\\\\\n",
       "\\hline\n",
       "\t 12428 & 156   & 11553 & 2014  & RE1   & 6     & 3     & B     &       & S     & 7,1   & N     & B    \\\\\n",
       "\t 12428 & 156   & 11567 & 2014  & RE1   & 4,5   & 3     & G     &       & S     & 8,1   & N     & O    \\\\\n",
       "\t 12428 & 156   & 11572 & 2014  & RE1   & 4,5   & 4     & G     &       & S     & 8     & N     & O    \\\\\n",
       "\\end{tabular}\n"
      ],
      "text/markdown": [
       "\n",
       "| NIP | TIT | ASI | CACA | GLM | CTOT | BLO | TPBLO | COND_ASI | ACTA | NOTA | CAL | TIPCRE |\n",
       "|---|---|---|---|---|---|---|---|---|---|---|---|---|\n",
       "| 12428 | 156   | 11553 | 2014  | RE1   | 6     | 3     | B     |       | S     | 7,1   | N     | B     |\n",
       "| 12428 | 156   | 11567 | 2014  | RE1   | 4,5   | 3     | G     |       | S     | 8,1   | N     | O     |\n",
       "| 12428 | 156   | 11572 | 2014  | RE1   | 4,5   | 4     | G     |       | S     | 8     | N     | O     |\n",
       "\n"
      ],
      "text/plain": [
       "  NIP   TIT ASI   CACA GLM CTOT BLO TPBLO COND_ASI ACTA NOTA CAL TIPCRE\n",
       "1 12428 156 11553 2014 RE1 6    3   B              S    7,1  N   B     \n",
       "2 12428 156 11567 2014 RE1 4,5  3   G              S    8,1  N   O     \n",
       "3 12428 156 11572 2014 RE1 4,5  4   G              S    8    N   O     "
      ]
     },
     "metadata": {},
     "output_type": "display_data"
    },
    {
     "data": {
      "text/html": [
       "<table>\n",
       "<thead><tr><th scope=col>NIP</th><th scope=col>TIT</th><th scope=col>CACA</th><th scope=col>TRABAJO_A</th><th scope=col>OBTIENE_BECA</th><th scope=col>ESTADO</th><th scope=col>CRE_MAT</th><th scope=col>CRE_SUP</th><th scope=col>CRE_SUS</th><th scope=col>CRE_NP</th><th scope=col>CRE_MAT_CN</th><th scope=col>CRE_SUP_CN</th><th scope=col>CRE_SUS_CN</th><th scope=col>CRE_NP_CN</th></tr></thead>\n",
       "<tbody>\n",
       "\t<tr><td>504943</td><td>158   </td><td>2012  </td><td>NA    </td><td>-     </td><td>      </td><td>25,5  </td><td>25,5  </td><td>0     </td><td>0     </td><td>25,5  </td><td>25,5  </td><td>0     </td><td>0     </td></tr>\n",
       "\t<tr><td>504911</td><td>158   </td><td>2012  </td><td>NA    </td><td>-     </td><td>      </td><td>25,5  </td><td>19,5  </td><td>6     </td><td>0     </td><td>25,5  </td><td>19,5  </td><td>6     </td><td>0     </td></tr>\n",
       "\t<tr><td>504898</td><td>158   </td><td>2012  </td><td>NA    </td><td>-     </td><td>      </td><td>28,5  </td><td>19,5  </td><td>0     </td><td>9     </td><td>28,5  </td><td>19,5  </td><td>0     </td><td>9     </td></tr>\n",
       "</tbody>\n",
       "</table>\n"
      ],
      "text/latex": [
       "\\begin{tabular}{r|llllllllllllll}\n",
       " NIP & TIT & CACA & TRABAJO\\_A & OBTIENE\\_BECA & ESTADO & CRE\\_MAT & CRE\\_SUP & CRE\\_SUS & CRE\\_NP & CRE\\_MAT\\_CN & CRE\\_SUP\\_CN & CRE\\_SUS\\_CN & CRE\\_NP\\_CN\\\\\n",
       "\\hline\n",
       "\t 504943 & 158    & 2012   & NA     & -      &        & 25,5   & 25,5   & 0      & 0      & 25,5   & 25,5   & 0      & 0     \\\\\n",
       "\t 504911 & 158    & 2012   & NA     & -      &        & 25,5   & 19,5   & 6      & 0      & 25,5   & 19,5   & 6      & 0     \\\\\n",
       "\t 504898 & 158    & 2012   & NA     & -      &        & 28,5   & 19,5   & 0      & 9      & 28,5   & 19,5   & 0      & 9     \\\\\n",
       "\\end{tabular}\n"
      ],
      "text/markdown": [
       "\n",
       "| NIP | TIT | CACA | TRABAJO_A | OBTIENE_BECA | ESTADO | CRE_MAT | CRE_SUP | CRE_SUS | CRE_NP | CRE_MAT_CN | CRE_SUP_CN | CRE_SUS_CN | CRE_NP_CN |\n",
       "|---|---|---|---|---|---|---|---|---|---|---|---|---|---|\n",
       "| 504943 | 158    | 2012   | NA     | -      |        | 25,5   | 25,5   | 0      | 0      | 25,5   | 25,5   | 0      | 0      |\n",
       "| 504911 | 158    | 2012   | NA     | -      |        | 25,5   | 19,5   | 6      | 0      | 25,5   | 19,5   | 6      | 0      |\n",
       "| 504898 | 158    | 2012   | NA     | -      |        | 28,5   | 19,5   | 0      | 9      | 28,5   | 19,5   | 0      | 9      |\n",
       "\n"
      ],
      "text/plain": [
       "  NIP    TIT CACA TRABAJO_A OBTIENE_BECA ESTADO CRE_MAT CRE_SUP CRE_SUS CRE_NP\n",
       "1 504943 158 2012 NA        -                   25,5    25,5    0       0     \n",
       "2 504911 158 2012 NA        -                   25,5    19,5    6       0     \n",
       "3 504898 158 2012 NA        -                   28,5    19,5    0       9     \n",
       "  CRE_MAT_CN CRE_SUP_CN CRE_SUS_CN CRE_NP_CN\n",
       "1 25,5       25,5       0          0        \n",
       "2 25,5       19,5       6          0        \n",
       "3 28,5       19,5       0          9        "
      ]
     },
     "metadata": {},
     "output_type": "display_data"
    }
   ],
   "source": [
    "# preview the data\n",
    "head(enrolments_df, 3)\n",
    "head(courses_df, 3)\n",
    "head(years_df, 3)"
   ]
  },
  {
   "cell_type": "markdown",
   "id": "56f94828",
   "metadata": {},
   "source": [
    "## 3. Translate the headers\n",
    "As the data has been privided in spanish, some translations are required in order for the avarege user to understand it. Such translations has been applied:\n",
    "NT == \"No Transtlation\"  \n",
    "    "
   ]
  },
  {
   "cell_type": "markdown",
   "id": "baeea553",
   "metadata": {},
   "source": [
    "### 3.1 Students_enrolment.csv\n",
    "For each student enrolling in one of the selected four degrees, the file includes demographic \n",
    "information, admission grade, previous studies, parents’ educational level, etc. It is important \n",
    "to point out that it refers only to the first registration in a given degree.\n",
    "\n",
    "NIP --> Stud_ID - a unique identification number for the student\n",
    "\n",
    "TIT --> Degree_ID - identification code for the degree on which the student was registered\n",
    "\n",
    "- 156: Bachelor's Degree in Informatics Engineering (School of Informatics, Valencia)\n",
    "\n",
    "- 158: Bachelor's Degree in Business Administration and Management (Faculty of Business Administration and Management, Valencia)\n",
    "\n",
    "- 182: Bachelor's Double Degree in Business Administration and Management + Informatics Engineering (Valencia)\n",
    "\n",
    "- 189: Bachelor's Degree in Data Science (School of Informatics, Valencia)\n",
    "\n",
    "ANYCOM --> Start_Year - the student’s starting year in the degree\n",
    "\n",
    "ING_INGRESO --> Enrolment_Type\n",
    "\n",
    "ING_NOTA --> Admission_Grade - university admission grade for this degree (ranges depend on the entry \n",
    "type)\n",
    "\n",
    "ING_EST --> Prev_Studies - previous studies\n",
    "\n",
    "ING_CUPO --> Entry_Type - Entry Type (?)\n",
    "\n",
    "EDAD --> Start_Age - age at the beginning of the academic year (1st September ANYCOM [Start Year])\n",
    "\n",
    "SEXO -->  Sex - gender\n",
    "\n",
    "ESTUDIS_P --> Father_Edu_Lev -  father's educational leve\n",
    "\n",
    "ESTUDIS_M --> Mother_Edu_Lev - mother's educational level\n",
    "\n",
    "NUMPRE --> NT (?) - position of the degree in the ordered options of the pre-registration\n"
   ]
  },
  {
   "cell_type": "code",
   "execution_count": 8,
   "id": "03eb9630",
   "metadata": {},
   "outputs": [
    {
     "data": {
      "text/html": [
       "<table>\n",
       "<thead><tr><th scope=col>Stud_ID</th><th scope=col>Degree_ID</th><th scope=col>Start_Year</th><th scope=col>Enrolment_Type</th><th scope=col>Admission_Grade</th><th scope=col>Prev_Studies</th><th scope=col>Entry_Type</th><th scope=col>Start_Age</th><th scope=col>Sex</th><th scope=col>Father_Edu_Lev</th><th scope=col>Mother_Edu_Lev</th><th scope=col>Numpre</th><th scope=col>NA</th><th scope=col>NA</th><th scope=col>NA</th></tr></thead>\n",
       "<tbody>\n",
       "\t<tr><td>439444</td><td>156   </td><td>2010  </td><td>NAI   </td><td>6,1   </td><td>J     </td><td>10    </td><td>G     </td><td>  NA  </td><td>19    </td><td>V     </td><td>5     </td><td>5     </td><td>6     </td><td>8     </td></tr>\n",
       "\t<tr><td>466072</td><td>156   </td><td>2010  </td><td>NAP   </td><td>6,02  </td><td>S     </td><td>10    </td><td>G     </td><td>  NA  </td><td>25    </td><td>V     </td><td>4     </td><td>4     </td><td>0     </td><td>1     </td></tr>\n",
       "\t<tr><td>354734</td><td>156   </td><td>2010  </td><td>NAP   </td><td>6,9   </td><td>J     </td><td>10    </td><td>G     </td><td>  NA  </td><td>22    </td><td>V     </td><td>5     </td><td>5     </td><td>0     </td><td>1     </td></tr>\n",
       "\t<tr><td>460803</td><td>156   </td><td>2010  </td><td>NAP   </td><td>6,833 </td><td>J     </td><td>11    </td><td>G     </td><td>2014  </td><td>18    </td><td>V     </td><td>5     </td><td>4     </td><td>60    </td><td>1     </td></tr>\n",
       "\t<tr><td>460956</td><td>156   </td><td>2010  </td><td>NSA   </td><td>9,016 </td><td>J     </td><td>10    </td><td>G     </td><td>  NA  </td><td>17    </td><td>V     </td><td>4     </td><td>4     </td><td>      </td><td>2     </td></tr>\n",
       "\t<tr><td>460850</td><td>156   </td><td>2010  </td><td>NAP   </td><td>9,129 </td><td>J     </td><td> 5    </td><td>G     </td><td>  NA  </td><td>22    </td><td>V     </td><td>5     </td><td>4     </td><td>12    </td><td>1     </td></tr>\n",
       "</tbody>\n",
       "</table>\n"
      ],
      "text/latex": [
       "\\begin{tabular}{r|lllllllllllllll}\n",
       " Stud\\_ID & Degree\\_ID & Start\\_Year & Enrolment\\_Type & Admission\\_Grade & Prev\\_Studies & Entry\\_Type & Start\\_Age & Sex & Father\\_Edu\\_Lev & Mother\\_Edu\\_Lev & Numpre & NA & NA & NA\\\\\n",
       "\\hline\n",
       "\t 439444 & 156    & 2010   & NAI    & 6,1    & J      & 10     & G      &   NA   & 19     & V      & 5      & 5      & 6      & 8     \\\\\n",
       "\t 466072 & 156    & 2010   & NAP    & 6,02   & S      & 10     & G      &   NA   & 25     & V      & 4      & 4      & 0      & 1     \\\\\n",
       "\t 354734 & 156    & 2010   & NAP    & 6,9    & J      & 10     & G      &   NA   & 22     & V      & 5      & 5      & 0      & 1     \\\\\n",
       "\t 460803 & 156    & 2010   & NAP    & 6,833  & J      & 11     & G      & 2014   & 18     & V      & 5      & 4      & 60     & 1     \\\\\n",
       "\t 460956 & 156    & 2010   & NSA    & 9,016  & J      & 10     & G      &   NA   & 17     & V      & 4      & 4      &        & 2     \\\\\n",
       "\t 460850 & 156    & 2010   & NAP    & 9,129  & J      &  5     & G      &   NA   & 22     & V      & 5      & 4      & 12     & 1     \\\\\n",
       "\\end{tabular}\n"
      ],
      "text/markdown": [
       "\n",
       "| Stud_ID | Degree_ID | Start_Year | Enrolment_Type | Admission_Grade | Prev_Studies | Entry_Type | Start_Age | Sex | Father_Edu_Lev | Mother_Edu_Lev | Numpre | NA | NA | NA |\n",
       "|---|---|---|---|---|---|---|---|---|---|---|---|---|---|---|\n",
       "| 439444 | 156    | 2010   | NAI    | 6,1    | J      | 10     | G      |   NA   | 19     | V      | 5      | 5      | 6      | 8      |\n",
       "| 466072 | 156    | 2010   | NAP    | 6,02   | S      | 10     | G      |   NA   | 25     | V      | 4      | 4      | 0      | 1      |\n",
       "| 354734 | 156    | 2010   | NAP    | 6,9    | J      | 10     | G      |   NA   | 22     | V      | 5      | 5      | 0      | 1      |\n",
       "| 460803 | 156    | 2010   | NAP    | 6,833  | J      | 11     | G      | 2014   | 18     | V      | 5      | 4      | 60     | 1      |\n",
       "| 460956 | 156    | 2010   | NSA    | 9,016  | J      | 10     | G      |   NA   | 17     | V      | 4      | 4      |        | 2      |\n",
       "| 460850 | 156    | 2010   | NAP    | 9,129  | J      |  5     | G      |   NA   | 22     | V      | 5      | 4      | 12     | 1      |\n",
       "\n"
      ],
      "text/plain": [
       "  Stud_ID Degree_ID Start_Year Enrolment_Type Admission_Grade Prev_Studies\n",
       "1 439444  156       2010       NAI            6,1             J           \n",
       "2 466072  156       2010       NAP            6,02            S           \n",
       "3 354734  156       2010       NAP            6,9             J           \n",
       "4 460803  156       2010       NAP            6,833           J           \n",
       "5 460956  156       2010       NSA            9,016           J           \n",
       "6 460850  156       2010       NAP            9,129           J           \n",
       "  Entry_Type Start_Age Sex  Father_Edu_Lev Mother_Edu_Lev Numpre <NA> <NA> <NA>\n",
       "1 10         G           NA 19             V              5      5    6    8   \n",
       "2 10         G           NA 25             V              4      4    0    1   \n",
       "3 10         G           NA 22             V              5      5    0    1   \n",
       "4 11         G         2014 18             V              5      4    60   1   \n",
       "5 10         G           NA 17             V              4      4         2   \n",
       "6  5         G           NA 22             V              5      4    12   1   "
      ]
     },
     "metadata": {},
     "output_type": "display_data"
    }
   ],
   "source": [
    "colnames(enrolments_df) <- c(\n",
    "    \"Stud_ID\",\n",
    "    \"Degree_ID\",\n",
    "    \"Start_Year\",\n",
    "    \"Enrolment_Type\",\n",
    "    \"Admission_Grade\",\n",
    "    \"Prev_Studies\",\n",
    "    \"Entry_Type\",\n",
    "    \"Start_Age\",\n",
    "    \"Sex\",\n",
    "    \"Father_Edu_Lev\",\n",
    "    \"Mother_Edu_Lev\",\n",
    "    \"Numpre\")\n",
    "head(enrolments_df)"
   ]
  },
  {
   "cell_type": "markdown",
   "id": "a3cafdf6",
   "metadata": {},
   "source": [
    "### 3.1 Students_courses.csv\n",
    "For each student enrolling in one of the selected four degrees, and for each academic year, the \n",
    "file includes information about each course in which the student is enrolled, its characteristics \n",
    "as well as the final grade\n",
    "\n",
    "NIP --> Stud_ID: a unique identification number for the student\n",
    "\n",
    "TIT --> Degree_ID identification code for the degree on which the student is registered\n",
    "\n",
    "ASI --> Course_ID: identification code of the course\n",
    "\n",
    "CACA --> Academic_Year: academic year\n",
    "\n",
    "GLM --> Course_Section: section where the student is registered for that course\n",
    "\n",
    "CTOT --> ECTS: ECTS credits\n",
    "\n",
    "BLO --> Course_Mod: module to which the course belongs\n",
    "\n",
    "TPBLO --> Mod_Type: module type to which the course belongs\n",
    "\n",
    "NOTA --> Final_Grade: final grade as shown on the student transcript\n",
    "\n",
    "TIPCRE --> Course_Type: course type\n"
   ]
  },
  {
   "cell_type": "code",
   "execution_count": 9,
   "id": "913220b9",
   "metadata": {},
   "outputs": [
    {
     "data": {
      "text/html": [
       "<table>\n",
       "<thead><tr><th scope=col>NIP</th><th scope=col>TIT</th><th scope=col>ASI</th><th scope=col>CACA</th><th scope=col>GLM</th><th scope=col>CTOT</th><th scope=col>BLO</th><th scope=col>TPBLO</th><th scope=col>COND_ASI</th><th scope=col>ACTA</th><th scope=col>NOTA</th><th scope=col>CAL</th><th scope=col>TIPCRE</th></tr></thead>\n",
       "<tbody>\n",
       "\t<tr><td>12428</td><td>156  </td><td>11553</td><td>2014 </td><td>RE1  </td><td>6    </td><td>3    </td><td>B    </td><td>     </td><td>S    </td><td>7,1  </td><td>N    </td><td>B    </td></tr>\n",
       "\t<tr><td>12428</td><td>156  </td><td>11567</td><td>2014 </td><td>RE1  </td><td>4,5  </td><td>3    </td><td>G    </td><td>     </td><td>S    </td><td>8,1  </td><td>N    </td><td>O    </td></tr>\n",
       "\t<tr><td>12428</td><td>156  </td><td>11572</td><td>2014 </td><td>RE1  </td><td>4,5  </td><td>4    </td><td>G    </td><td>     </td><td>S    </td><td>8    </td><td>N    </td><td>O    </td></tr>\n",
       "\t<tr><td>12428</td><td>156  </td><td>11568</td><td>2014 </td><td>RE1  </td><td>4,5  </td><td>3    </td><td>G    </td><td>     </td><td>S    </td><td>7,8  </td><td>N    </td><td>O    </td></tr>\n",
       "\t<tr><td>12428</td><td>156  </td><td>11660</td><td>2015 </td><td>TFG  </td><td>12   </td><td>4    </td><td>B    </td><td>     </td><td>-    </td><td>7,5  </td><td>N    </td><td>G    </td></tr>\n",
       "\t<tr><td>12428</td><td>156  </td><td>11560</td><td>2015 </td><td>RE1  </td><td>4,5  </td><td>3    </td><td>B    </td><td>     </td><td>S    </td><td>7,1  </td><td>N    </td><td>B    </td></tr>\n",
       "</tbody>\n",
       "</table>\n"
      ],
      "text/latex": [
       "\\begin{tabular}{r|lllllllllllll}\n",
       " NIP & TIT & ASI & CACA & GLM & CTOT & BLO & TPBLO & COND\\_ASI & ACTA & NOTA & CAL & TIPCRE\\\\\n",
       "\\hline\n",
       "\t 12428 & 156   & 11553 & 2014  & RE1   & 6     & 3     & B     &       & S     & 7,1   & N     & B    \\\\\n",
       "\t 12428 & 156   & 11567 & 2014  & RE1   & 4,5   & 3     & G     &       & S     & 8,1   & N     & O    \\\\\n",
       "\t 12428 & 156   & 11572 & 2014  & RE1   & 4,5   & 4     & G     &       & S     & 8     & N     & O    \\\\\n",
       "\t 12428 & 156   & 11568 & 2014  & RE1   & 4,5   & 3     & G     &       & S     & 7,8   & N     & O    \\\\\n",
       "\t 12428 & 156   & 11660 & 2015  & TFG   & 12    & 4     & B     &       & -     & 7,5   & N     & G    \\\\\n",
       "\t 12428 & 156   & 11560 & 2015  & RE1   & 4,5   & 3     & B     &       & S     & 7,1   & N     & B    \\\\\n",
       "\\end{tabular}\n"
      ],
      "text/markdown": [
       "\n",
       "| NIP | TIT | ASI | CACA | GLM | CTOT | BLO | TPBLO | COND_ASI | ACTA | NOTA | CAL | TIPCRE |\n",
       "|---|---|---|---|---|---|---|---|---|---|---|---|---|\n",
       "| 12428 | 156   | 11553 | 2014  | RE1   | 6     | 3     | B     |       | S     | 7,1   | N     | B     |\n",
       "| 12428 | 156   | 11567 | 2014  | RE1   | 4,5   | 3     | G     |       | S     | 8,1   | N     | O     |\n",
       "| 12428 | 156   | 11572 | 2014  | RE1   | 4,5   | 4     | G     |       | S     | 8     | N     | O     |\n",
       "| 12428 | 156   | 11568 | 2014  | RE1   | 4,5   | 3     | G     |       | S     | 7,8   | N     | O     |\n",
       "| 12428 | 156   | 11660 | 2015  | TFG   | 12    | 4     | B     |       | -     | 7,5   | N     | G     |\n",
       "| 12428 | 156   | 11560 | 2015  | RE1   | 4,5   | 3     | B     |       | S     | 7,1   | N     | B     |\n",
       "\n"
      ],
      "text/plain": [
       "  NIP   TIT ASI   CACA GLM CTOT BLO TPBLO COND_ASI ACTA NOTA CAL TIPCRE\n",
       "1 12428 156 11553 2014 RE1 6    3   B              S    7,1  N   B     \n",
       "2 12428 156 11567 2014 RE1 4,5  3   G              S    8,1  N   O     \n",
       "3 12428 156 11572 2014 RE1 4,5  4   G              S    8    N   O     \n",
       "4 12428 156 11568 2014 RE1 4,5  3   G              S    7,8  N   O     \n",
       "5 12428 156 11660 2015 TFG 12   4   B              -    7,5  N   G     \n",
       "6 12428 156 11560 2015 RE1 4,5  3   B              S    7,1  N   B     "
      ]
     },
     "metadata": {},
     "output_type": "display_data"
    },
    {
     "data": {
      "text/html": [
       "<table>\n",
       "<thead><tr><th scope=col>Stud_ID</th><th scope=col>Degree_ID</th><th scope=col>Course_ID</th><th scope=col>Academic_Year</th><th scope=col>Course_Section</th><th scope=col>ECTS</th><th scope=col>Course_Mod</th><th scope=col>Mod_Type</th><th scope=col>Final_Grade</th><th scope=col>Course_Type</th><th scope=col>NA</th><th scope=col>NA</th><th scope=col>NA</th></tr></thead>\n",
       "<tbody>\n",
       "\t<tr><td>12428</td><td>156  </td><td>11553</td><td>2014 </td><td>RE1  </td><td>6    </td><td>3    </td><td>B    </td><td>     </td><td>S    </td><td>7,1  </td><td>N    </td><td>B    </td></tr>\n",
       "\t<tr><td>12428</td><td>156  </td><td>11567</td><td>2014 </td><td>RE1  </td><td>4,5  </td><td>3    </td><td>G    </td><td>     </td><td>S    </td><td>8,1  </td><td>N    </td><td>O    </td></tr>\n",
       "\t<tr><td>12428</td><td>156  </td><td>11572</td><td>2014 </td><td>RE1  </td><td>4,5  </td><td>4    </td><td>G    </td><td>     </td><td>S    </td><td>8    </td><td>N    </td><td>O    </td></tr>\n",
       "\t<tr><td>12428</td><td>156  </td><td>11568</td><td>2014 </td><td>RE1  </td><td>4,5  </td><td>3    </td><td>G    </td><td>     </td><td>S    </td><td>7,8  </td><td>N    </td><td>O    </td></tr>\n",
       "\t<tr><td>12428</td><td>156  </td><td>11660</td><td>2015 </td><td>TFG  </td><td>12   </td><td>4    </td><td>B    </td><td>     </td><td>-    </td><td>7,5  </td><td>N    </td><td>G    </td></tr>\n",
       "\t<tr><td>12428</td><td>156  </td><td>11560</td><td>2015 </td><td>RE1  </td><td>4,5  </td><td>3    </td><td>B    </td><td>     </td><td>S    </td><td>7,1  </td><td>N    </td><td>B    </td></tr>\n",
       "</tbody>\n",
       "</table>\n"
      ],
      "text/latex": [
       "\\begin{tabular}{r|lllllllllllll}\n",
       " Stud\\_ID & Degree\\_ID & Course\\_ID & Academic\\_Year & Course\\_Section & ECTS & Course\\_Mod & Mod\\_Type & Final\\_Grade & Course\\_Type & NA & NA & NA\\\\\n",
       "\\hline\n",
       "\t 12428 & 156   & 11553 & 2014  & RE1   & 6     & 3     & B     &       & S     & 7,1   & N     & B    \\\\\n",
       "\t 12428 & 156   & 11567 & 2014  & RE1   & 4,5   & 3     & G     &       & S     & 8,1   & N     & O    \\\\\n",
       "\t 12428 & 156   & 11572 & 2014  & RE1   & 4,5   & 4     & G     &       & S     & 8     & N     & O    \\\\\n",
       "\t 12428 & 156   & 11568 & 2014  & RE1   & 4,5   & 3     & G     &       & S     & 7,8   & N     & O    \\\\\n",
       "\t 12428 & 156   & 11660 & 2015  & TFG   & 12    & 4     & B     &       & -     & 7,5   & N     & G    \\\\\n",
       "\t 12428 & 156   & 11560 & 2015  & RE1   & 4,5   & 3     & B     &       & S     & 7,1   & N     & B    \\\\\n",
       "\\end{tabular}\n"
      ],
      "text/markdown": [
       "\n",
       "| Stud_ID | Degree_ID | Course_ID | Academic_Year | Course_Section | ECTS | Course_Mod | Mod_Type | Final_Grade | Course_Type | NA | NA | NA |\n",
       "|---|---|---|---|---|---|---|---|---|---|---|---|---|\n",
       "| 12428 | 156   | 11553 | 2014  | RE1   | 6     | 3     | B     |       | S     | 7,1   | N     | B     |\n",
       "| 12428 | 156   | 11567 | 2014  | RE1   | 4,5   | 3     | G     |       | S     | 8,1   | N     | O     |\n",
       "| 12428 | 156   | 11572 | 2014  | RE1   | 4,5   | 4     | G     |       | S     | 8     | N     | O     |\n",
       "| 12428 | 156   | 11568 | 2014  | RE1   | 4,5   | 3     | G     |       | S     | 7,8   | N     | O     |\n",
       "| 12428 | 156   | 11660 | 2015  | TFG   | 12    | 4     | B     |       | -     | 7,5   | N     | G     |\n",
       "| 12428 | 156   | 11560 | 2015  | RE1   | 4,5   | 3     | B     |       | S     | 7,1   | N     | B     |\n",
       "\n"
      ],
      "text/plain": [
       "  Stud_ID Degree_ID Course_ID Academic_Year Course_Section ECTS Course_Mod\n",
       "1 12428   156       11553     2014          RE1            6    3         \n",
       "2 12428   156       11567     2014          RE1            4,5  3         \n",
       "3 12428   156       11572     2014          RE1            4,5  4         \n",
       "4 12428   156       11568     2014          RE1            4,5  3         \n",
       "5 12428   156       11660     2015          TFG            12   4         \n",
       "6 12428   156       11560     2015          RE1            4,5  3         \n",
       "  Mod_Type Final_Grade Course_Type <NA> <NA> <NA>\n",
       "1 B                    S           7,1  N    B   \n",
       "2 G                    S           8,1  N    O   \n",
       "3 G                    S           8    N    O   \n",
       "4 G                    S           7,8  N    O   \n",
       "5 B                    -           7,5  N    G   \n",
       "6 B                    S           7,1  N    B   "
      ]
     },
     "metadata": {},
     "output_type": "display_data"
    }
   ],
   "source": [
    "head(courses_df)\n",
    "colnames(courses_df) <- c(\n",
    "    \"Stud_ID\",\n",
    "    \"Degree_ID\",\n",
    "    \"Course_ID\",\n",
    "    \"Academic_Year\",\n",
    "    \"Course_Section\",\n",
    "    \"ECTS\",\n",
    "    \"Course_Mod\",\n",
    "    \"Mod_Type\",\n",
    "    \"Final_Grade\",\n",
    "    \"Course_Type\")\n",
    "head(courses_df)"
   ]
  },
  {
   "cell_type": "markdown",
   "id": "d9deea9b",
   "metadata": {},
   "source": [
    "## Students_years.csv\n",
    "For each student enrolling in one of the selected four degrees, and for each academic year, the \n",
    "file includes information about the total number of registered credits, as well as passed, failed \n",
    "and no-show credits. It also contains some additional socio-economical information.\n",
    "Columns are:\n",
    "\n",
    "NIP --> Stud_ID: a unique identification number for the student\n",
    "\n",
    "TIT --> Degree_ID: identification code for the degree on which the student is registered\n",
    "\n",
    "CACA --> Academic_Year: academic year\n",
    "\n",
    "TRABAJO_A --> Stud_Job: has the student a job (part time, full-time)?\n",
    "\n",
    "OBTIENE_BECA --> Stud_Scholarship has the student obtained a scholarship?\n",
    "\n",
    "ESTADO --> Is_Reg_Open: is the registration active?\n",
    "\n",
    "CRE_MAT --> Credits_Total: total number of registered credits on that academic year\n",
    "\n",
    "CRE_SUP --> Credits_Passed_Total: total number of passed credits on that academic year\n",
    "\n",
    "CRE_SUS --> Credits_Failed_Total: total number of failed credits on that academic year\n",
    "\n",
    "CRE_NP --> Credits_No_Show_Total: total number of no-show credits on that academic year\n",
    "\n",
    "CRE_MAT_CN --> Credits_Normal_Reg_Total total number of registered credits in “normal conditions”, excluding recognitions, adaptations…on that academic \n",
    "\n",
    "CRE_SUP_CN --> Credits_Passed_Normal: total number of passed credits in “normal conditions”\n",
    "\n",
    "CRE_SUS_CN --> Credits_Failed_Normal: total number of failed credits in “normal conditions”\n",
    "\n",
    "CRE_NP_CN --> Credits_No_Show_Normal total number of no-show credits in “normal conditions"
   ]
  },
  {
   "cell_type": "code",
   "execution_count": 11,
   "id": "4d6ed958",
   "metadata": {},
   "outputs": [
    {
     "data": {
      "text/html": [
       "<table>\n",
       "<thead><tr><th scope=col>NIP</th><th scope=col>TIT</th><th scope=col>CACA</th><th scope=col>TRABAJO_A</th><th scope=col>OBTIENE_BECA</th><th scope=col>ESTADO</th><th scope=col>CRE_MAT</th><th scope=col>CRE_SUP</th><th scope=col>CRE_SUS</th><th scope=col>CRE_NP</th><th scope=col>CRE_MAT_CN</th><th scope=col>CRE_SUP_CN</th><th scope=col>CRE_SUS_CN</th><th scope=col>CRE_NP_CN</th></tr></thead>\n",
       "<tbody>\n",
       "\t<tr><td>504943</td><td>158   </td><td>2012  </td><td>NA    </td><td>-     </td><td>      </td><td>25,5  </td><td>25,5  </td><td>0     </td><td>0     </td><td>25,5  </td><td>25,5  </td><td>0     </td><td>0     </td></tr>\n",
       "\t<tr><td>504911</td><td>158   </td><td>2012  </td><td>NA    </td><td>-     </td><td>      </td><td>25,5  </td><td>19,5  </td><td>6     </td><td>0     </td><td>25,5  </td><td>19,5  </td><td>6     </td><td>0     </td></tr>\n",
       "\t<tr><td>504898</td><td>158   </td><td>2012  </td><td>NA    </td><td>-     </td><td>      </td><td>28,5  </td><td>19,5  </td><td>0     </td><td>9     </td><td>28,5  </td><td>19,5  </td><td>0     </td><td>9     </td></tr>\n",
       "\t<tr><td>504997</td><td>158   </td><td>2012  </td><td>NA    </td><td>-     </td><td>      </td><td>15    </td><td>0     </td><td>9     </td><td>6     </td><td>15    </td><td>0     </td><td>9     </td><td>6     </td></tr>\n",
       "\t<tr><td>505000</td><td>158   </td><td>2012  </td><td>NA    </td><td>-     </td><td>      </td><td>15    </td><td>15    </td><td>0     </td><td>0     </td><td>15    </td><td>15    </td><td>0     </td><td>0     </td></tr>\n",
       "\t<tr><td>504999</td><td>158   </td><td>2012  </td><td>NA    </td><td>-     </td><td>      </td><td>27    </td><td>22,5  </td><td>0     </td><td>4,5   </td><td>27    </td><td>22,5  </td><td>0     </td><td>4,5   </td></tr>\n",
       "</tbody>\n",
       "</table>\n"
      ],
      "text/latex": [
       "\\begin{tabular}{r|llllllllllllll}\n",
       " NIP & TIT & CACA & TRABAJO\\_A & OBTIENE\\_BECA & ESTADO & CRE\\_MAT & CRE\\_SUP & CRE\\_SUS & CRE\\_NP & CRE\\_MAT\\_CN & CRE\\_SUP\\_CN & CRE\\_SUS\\_CN & CRE\\_NP\\_CN\\\\\n",
       "\\hline\n",
       "\t 504943 & 158    & 2012   & NA     & -      &        & 25,5   & 25,5   & 0      & 0      & 25,5   & 25,5   & 0      & 0     \\\\\n",
       "\t 504911 & 158    & 2012   & NA     & -      &        & 25,5   & 19,5   & 6      & 0      & 25,5   & 19,5   & 6      & 0     \\\\\n",
       "\t 504898 & 158    & 2012   & NA     & -      &        & 28,5   & 19,5   & 0      & 9      & 28,5   & 19,5   & 0      & 9     \\\\\n",
       "\t 504997 & 158    & 2012   & NA     & -      &        & 15     & 0      & 9      & 6      & 15     & 0      & 9      & 6     \\\\\n",
       "\t 505000 & 158    & 2012   & NA     & -      &        & 15     & 15     & 0      & 0      & 15     & 15     & 0      & 0     \\\\\n",
       "\t 504999 & 158    & 2012   & NA     & -      &        & 27     & 22,5   & 0      & 4,5    & 27     & 22,5   & 0      & 4,5   \\\\\n",
       "\\end{tabular}\n"
      ],
      "text/markdown": [
       "\n",
       "| NIP | TIT | CACA | TRABAJO_A | OBTIENE_BECA | ESTADO | CRE_MAT | CRE_SUP | CRE_SUS | CRE_NP | CRE_MAT_CN | CRE_SUP_CN | CRE_SUS_CN | CRE_NP_CN |\n",
       "|---|---|---|---|---|---|---|---|---|---|---|---|---|---|\n",
       "| 504943 | 158    | 2012   | NA     | -      |        | 25,5   | 25,5   | 0      | 0      | 25,5   | 25,5   | 0      | 0      |\n",
       "| 504911 | 158    | 2012   | NA     | -      |        | 25,5   | 19,5   | 6      | 0      | 25,5   | 19,5   | 6      | 0      |\n",
       "| 504898 | 158    | 2012   | NA     | -      |        | 28,5   | 19,5   | 0      | 9      | 28,5   | 19,5   | 0      | 9      |\n",
       "| 504997 | 158    | 2012   | NA     | -      |        | 15     | 0      | 9      | 6      | 15     | 0      | 9      | 6      |\n",
       "| 505000 | 158    | 2012   | NA     | -      |        | 15     | 15     | 0      | 0      | 15     | 15     | 0      | 0      |\n",
       "| 504999 | 158    | 2012   | NA     | -      |        | 27     | 22,5   | 0      | 4,5    | 27     | 22,5   | 0      | 4,5    |\n",
       "\n"
      ],
      "text/plain": [
       "  NIP    TIT CACA TRABAJO_A OBTIENE_BECA ESTADO CRE_MAT CRE_SUP CRE_SUS CRE_NP\n",
       "1 504943 158 2012 NA        -                   25,5    25,5    0       0     \n",
       "2 504911 158 2012 NA        -                   25,5    19,5    6       0     \n",
       "3 504898 158 2012 NA        -                   28,5    19,5    0       9     \n",
       "4 504997 158 2012 NA        -                   15      0       9       6     \n",
       "5 505000 158 2012 NA        -                   15      15      0       0     \n",
       "6 504999 158 2012 NA        -                   27      22,5    0       4,5   \n",
       "  CRE_MAT_CN CRE_SUP_CN CRE_SUS_CN CRE_NP_CN\n",
       "1 25,5       25,5       0          0        \n",
       "2 25,5       19,5       6          0        \n",
       "3 28,5       19,5       0          9        \n",
       "4 15         0          9          6        \n",
       "5 15         15         0          0        \n",
       "6 27         22,5       0          4,5      "
      ]
     },
     "metadata": {},
     "output_type": "display_data"
    },
    {
     "data": {
      "text/html": [
       "<table>\n",
       "<thead><tr><th scope=col>Stud_ID</th><th scope=col>Degree_ID</th><th scope=col>Academic_Year</th><th scope=col>Stud_Job</th><th scope=col>Stud_Scholarship</th><th scope=col>Is_Reg_Open</th><th scope=col>Credits_Total</th><th scope=col>Credits_Passed_Total</th><th scope=col>Credits_Failed_Total</th><th scope=col>Credits_No_Show_Total</th><th scope=col>Credits_Normal_Reg_Total</th><th scope=col>Credits_Passed_Normal</th><th scope=col>Credits_Failed_Normal</th><th scope=col>Credits_No_Show_Normal</th></tr></thead>\n",
       "<tbody>\n",
       "\t<tr><td>504943</td><td>158   </td><td>2012  </td><td>NA    </td><td>-     </td><td>      </td><td>25,5  </td><td>25,5  </td><td>0     </td><td>0     </td><td>25,5  </td><td>25,5  </td><td>0     </td><td>0     </td></tr>\n",
       "\t<tr><td>504911</td><td>158   </td><td>2012  </td><td>NA    </td><td>-     </td><td>      </td><td>25,5  </td><td>19,5  </td><td>6     </td><td>0     </td><td>25,5  </td><td>19,5  </td><td>6     </td><td>0     </td></tr>\n",
       "\t<tr><td>504898</td><td>158   </td><td>2012  </td><td>NA    </td><td>-     </td><td>      </td><td>28,5  </td><td>19,5  </td><td>0     </td><td>9     </td><td>28,5  </td><td>19,5  </td><td>0     </td><td>9     </td></tr>\n",
       "\t<tr><td>504997</td><td>158   </td><td>2012  </td><td>NA    </td><td>-     </td><td>      </td><td>15    </td><td>0     </td><td>9     </td><td>6     </td><td>15    </td><td>0     </td><td>9     </td><td>6     </td></tr>\n",
       "\t<tr><td>505000</td><td>158   </td><td>2012  </td><td>NA    </td><td>-     </td><td>      </td><td>15    </td><td>15    </td><td>0     </td><td>0     </td><td>15    </td><td>15    </td><td>0     </td><td>0     </td></tr>\n",
       "\t<tr><td>504999</td><td>158   </td><td>2012  </td><td>NA    </td><td>-     </td><td>      </td><td>27    </td><td>22,5  </td><td>0     </td><td>4,5   </td><td>27    </td><td>22,5  </td><td>0     </td><td>4,5   </td></tr>\n",
       "</tbody>\n",
       "</table>\n"
      ],
      "text/latex": [
       "\\begin{tabular}{r|llllllllllllll}\n",
       " Stud\\_ID & Degree\\_ID & Academic\\_Year & Stud\\_Job & Stud\\_Scholarship & Is\\_Reg\\_Open & Credits\\_Total & Credits\\_Passed\\_Total & Credits\\_Failed\\_Total & Credits\\_No\\_Show\\_Total & Credits\\_Normal\\_Reg\\_Total & Credits\\_Passed\\_Normal & Credits\\_Failed\\_Normal & Credits\\_No\\_Show\\_Normal\\\\\n",
       "\\hline\n",
       "\t 504943 & 158    & 2012   & NA     & -      &        & 25,5   & 25,5   & 0      & 0      & 25,5   & 25,5   & 0      & 0     \\\\\n",
       "\t 504911 & 158    & 2012   & NA     & -      &        & 25,5   & 19,5   & 6      & 0      & 25,5   & 19,5   & 6      & 0     \\\\\n",
       "\t 504898 & 158    & 2012   & NA     & -      &        & 28,5   & 19,5   & 0      & 9      & 28,5   & 19,5   & 0      & 9     \\\\\n",
       "\t 504997 & 158    & 2012   & NA     & -      &        & 15     & 0      & 9      & 6      & 15     & 0      & 9      & 6     \\\\\n",
       "\t 505000 & 158    & 2012   & NA     & -      &        & 15     & 15     & 0      & 0      & 15     & 15     & 0      & 0     \\\\\n",
       "\t 504999 & 158    & 2012   & NA     & -      &        & 27     & 22,5   & 0      & 4,5    & 27     & 22,5   & 0      & 4,5   \\\\\n",
       "\\end{tabular}\n"
      ],
      "text/markdown": [
       "\n",
       "| Stud_ID | Degree_ID | Academic_Year | Stud_Job | Stud_Scholarship | Is_Reg_Open | Credits_Total | Credits_Passed_Total | Credits_Failed_Total | Credits_No_Show_Total | Credits_Normal_Reg_Total | Credits_Passed_Normal | Credits_Failed_Normal | Credits_No_Show_Normal |\n",
       "|---|---|---|---|---|---|---|---|---|---|---|---|---|---|\n",
       "| 504943 | 158    | 2012   | NA     | -      |        | 25,5   | 25,5   | 0      | 0      | 25,5   | 25,5   | 0      | 0      |\n",
       "| 504911 | 158    | 2012   | NA     | -      |        | 25,5   | 19,5   | 6      | 0      | 25,5   | 19,5   | 6      | 0      |\n",
       "| 504898 | 158    | 2012   | NA     | -      |        | 28,5   | 19,5   | 0      | 9      | 28,5   | 19,5   | 0      | 9      |\n",
       "| 504997 | 158    | 2012   | NA     | -      |        | 15     | 0      | 9      | 6      | 15     | 0      | 9      | 6      |\n",
       "| 505000 | 158    | 2012   | NA     | -      |        | 15     | 15     | 0      | 0      | 15     | 15     | 0      | 0      |\n",
       "| 504999 | 158    | 2012   | NA     | -      |        | 27     | 22,5   | 0      | 4,5    | 27     | 22,5   | 0      | 4,5    |\n",
       "\n"
      ],
      "text/plain": [
       "  Stud_ID Degree_ID Academic_Year Stud_Job Stud_Scholarship Is_Reg_Open\n",
       "1 504943  158       2012          NA       -                           \n",
       "2 504911  158       2012          NA       -                           \n",
       "3 504898  158       2012          NA       -                           \n",
       "4 504997  158       2012          NA       -                           \n",
       "5 505000  158       2012          NA       -                           \n",
       "6 504999  158       2012          NA       -                           \n",
       "  Credits_Total Credits_Passed_Total Credits_Failed_Total Credits_No_Show_Total\n",
       "1 25,5          25,5                 0                    0                    \n",
       "2 25,5          19,5                 6                    0                    \n",
       "3 28,5          19,5                 0                    9                    \n",
       "4 15            0                    9                    6                    \n",
       "5 15            15                   0                    0                    \n",
       "6 27            22,5                 0                    4,5                  \n",
       "  Credits_Normal_Reg_Total Credits_Passed_Normal Credits_Failed_Normal\n",
       "1 25,5                     25,5                  0                    \n",
       "2 25,5                     19,5                  6                    \n",
       "3 28,5                     19,5                  0                    \n",
       "4 15                       0                     9                    \n",
       "5 15                       15                    0                    \n",
       "6 27                       22,5                  0                    \n",
       "  Credits_No_Show_Normal\n",
       "1 0                     \n",
       "2 0                     \n",
       "3 9                     \n",
       "4 6                     \n",
       "5 0                     \n",
       "6 4,5                   "
      ]
     },
     "metadata": {},
     "output_type": "display_data"
    }
   ],
   "source": [
    "head(years_df)\n",
    "colnames(years_df) <- c(\n",
    "    \"Stud_ID\",\n",
    "    \"Degree_ID\",\n",
    "    \"Academic_Year\",\n",
    "    \"Stud_Job\",\n",
    "    \"Stud_Scholarship\",\n",
    "    \"Is_Reg_Open\",\n",
    "    \"Credits_Total\",\n",
    "    \"Credits_Passed_Total\",\n",
    "    \"Credits_Failed_Total\",\n",
    "    \"Credits_No_Show_Total\",\n",
    "    \"Credits_Normal_Reg_Total\",\n",
    "    \"Credits_Passed_Normal\",\n",
    "    \"Credits_Failed_Normal\",\n",
    "    \"Credits_No_Show_Normal\")\n",
    "head(years_df)"
   ]
  },
  {
   "cell_type": "code",
   "execution_count": null,
   "id": "14d42f2c",
   "metadata": {},
   "outputs": [],
   "source": []
  }
 ],
 "metadata": {
  "kernelspec": {
   "display_name": "R",
   "language": "R",
   "name": "ir"
  },
  "language_info": {
   "codemirror_mode": "r",
   "file_extension": ".r",
   "mimetype": "text/x-r-source",
   "name": "R",
   "pygments_lexer": "r",
   "version": "3.6.1"
  }
 },
 "nbformat": 4,
 "nbformat_minor": 5
}

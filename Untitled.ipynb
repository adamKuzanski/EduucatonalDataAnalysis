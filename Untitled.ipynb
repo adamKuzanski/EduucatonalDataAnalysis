{
 "cells": [
  {
   "cell_type": "code",
   "execution_count": 5,
   "id": "0256c0d8",
   "metadata": {},
   "outputs": [
    {
     "ename": "ERROR",
     "evalue": "Error in library(COINr): there is no package called 'COINr'\n",
     "output_type": "error",
     "traceback": [
      "Error in library(COINr): there is no package called 'COINr'\nTraceback:\n",
      "1. library(COINr)"
     ]
    }
   ],
   "source": []
  },
  {
   "cell_type": "code",
   "execution_count": 6,
   "id": "44b775cb",
   "metadata": {},
   "outputs": [
    {
     "name": "stderr",
     "output_type": "stream",
     "text": [
      "Warning message:\n",
      "\"package 'COINr' is not available (for R version 3.6.1)\""
     ]
    }
   ],
   "source": [
    "install.packages(\"COINr\", \"D:\\\\Oprogramowanie_studia\\\\Anaconda_files\\\\Lib\\\\R\\\\library\")"
   ]
  },
  {
   "cell_type": "code",
   "execution_count": null,
   "id": "9ec17cfb",
   "metadata": {},
   "outputs": [],
   "source": [
    "library(COINr)"
   ]
  }
 ],
 "metadata": {
  "kernelspec": {
   "display_name": "R",
   "language": "R",
   "name": "ir"
  },
  "language_info": {
   "codemirror_mode": "r",
   "file_extension": ".r",
   "mimetype": "text/x-r-source",
   "name": "R",
   "pygments_lexer": "r",
   "version": "3.6.1"
  }
 },
 "nbformat": 4,
 "nbformat_minor": 5
}
